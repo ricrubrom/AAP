{
 "cells": [
  {
   "cell_type": "markdown",
   "id": "ceec649f",
   "metadata": {},
   "source": [
    "Indique cuál será el valor de la métrica F1-score correspondiente a la predicción del valor de clase Iris-Setosa si se aplica un clasificador que siempre responde dicho valor, es decir, que siempre responde Iris-Setosa."
   ]
  },
  {
   "cell_type": "code",
   "execution_count": 1,
   "id": "79060e8d",
   "metadata": {},
   "outputs": [
    {
     "name": "stdout",
     "output_type": "stream",
     "text": [
      "F1-score para la clase Iris-Setosa: 0.50\n"
     ]
    }
   ],
   "source": [
    "# Si el clasificador siempre predice \"Iris-Setosa\", la métrica F1-score para esa clase será igual a su precisión,\n",
    "# ya que el recall será 1 (todas las verdaderas \"Iris-Setosa\" serán detectadas) y la precisión dependerá de la proporción de \"Iris-Setosa\" en el conjunto de datos.\n",
    "\n",
    "# Fórmula del F1-score: F1 = 2 * (precision * recall) / (precision + recall)\n",
    "# En este caso:\n",
    "# - recall = 1\n",
    "# - precision = (número de verdaderos \"Iris-Setosa\") / (total de muestras)\n",
    "\n",
    "# Si el conjunto de datos tiene 50 muestras de \"Iris-Setosa\" y 150 muestras en total:\n",
    "precision = 50 / 150\n",
    "recall = 1\n",
    "f1_score = 2 * (precision * recall) / (precision + recall)\n",
    "print(f\"F1-score para la clase Iris-Setosa: {f1_score:.2f}\")"
   ]
  }
 ],
 "metadata": {
  "kernelspec": {
   "display_name": "AAP",
   "language": "python",
   "name": "python3"
  },
  "language_info": {
   "codemirror_mode": {
    "name": "ipython",
    "version": 3
   },
   "file_extension": ".py",
   "mimetype": "text/x-python",
   "name": "python",
   "nbconvert_exporter": "python",
   "pygments_lexer": "ipython3",
   "version": "3.13.7"
  }
 },
 "nbformat": 4,
 "nbformat_minor": 5
}
