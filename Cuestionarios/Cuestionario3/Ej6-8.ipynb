{
 "cells": [
  {
   "cell_type": "markdown",
   "id": "4c1606a1",
   "metadata": {},
   "source": [
    "El archivo Vinos.csv está formado por las muestras de un análisis químico realizado a tres tipos distintos de vinos producidos en una misma región de Italia. El número de muestras considerado es el siguiente: 59 muestras del vino tipo 1, 71 del vino tipo 2 y 48 de del vino tipo 3. Cada muestra contiene, en primer lugar, el número del tipo al cual pertenece el vino analizado seguido por los 13 atributos que lo caracterizan.\n",
    "\n",
    "      Por ejemplo, la siguiente fila: 2, 12.29, 3.17, 2.21, 18, 88, 2.85, 2.99, 0.45, 2.81, 2.3, 1.42, 2.83, 406\n",
    "\n",
    "es el resultado del análisis de un vino correspondiente al tipo 2 (1er. valor de la fila) seguido por 13 valores que indican los niveles de las mediciones realizadas a dicho vino.\n",
    "\n",
    "Si se utiliza una red con capa de salida softmax y 3 capas ocultas: la primera formada por 20 neuronas, la segunda formada por 10 neuronas y la tercera formada por 5 neuronas \n",
    "\n",
    "¿cuántos parámetros o pesos tiene la red?"
   ]
  },
  {
   "cell_type": "code",
   "execution_count": 16,
   "id": "0cfe4eb0",
   "metadata": {},
   "outputs": [],
   "source": [
    "import pandas as pd\n",
    "import numpy as np\n",
    "from sklearn.model_selection import train_test_split\n",
    "from sklearn import preprocessing\n",
    "import tensorflow as tf\n",
    "\n",
    "DATA_PATH=\"./Data/\"\n",
    "\n",
    "data=pd.read_csv(DATA_PATH+'Vinos.csv', sep=';')\n",
    "\n",
    "X = data.drop('Class', axis=1)\n",
    "T = data['Class']\n",
    "\n",
    "scaler = preprocessing.StandardScaler()\n",
    "X = pd.DataFrame(scaler.fit_transform(X), columns=X.columns, index=X.index)\n",
    "\n",
    "binarizer = preprocessing.LabelBinarizer()\n",
    "T = binarizer.fit_transform(T)\n",
    "\n",
    "# X_train, X_test, T_train, T_test = train_test_split(X, T, test_size=0.2, random_state=42, stratify=T)\n"
   ]
  },
  {
   "cell_type": "code",
   "execution_count": 17,
   "id": "dcf49253",
   "metadata": {},
   "outputs": [
    {
     "name": "stdout",
     "output_type": "stream",
     "text": [
      "TensorFlow está configurado para usar CUDA (GPU).\n"
     ]
    },
    {
     "data": {
      "text/plain": [
       "True"
      ]
     },
     "execution_count": 17,
     "metadata": {},
     "output_type": "execute_result"
    }
   ],
   "source": [
    "from gpuConfig import configure_cuda\n",
    "\n",
    "configure_cuda()\n",
    "\n"
   ]
  },
  {
   "cell_type": "code",
   "execution_count": 18,
   "id": "50592104",
   "metadata": {},
   "outputs": [
    {
     "data": {
      "text/html": [
       "<pre style=\"white-space:pre;overflow-x:auto;line-height:normal;font-family:Menlo,'DejaVu Sans Mono',consolas,'Courier New',monospace\"><span style=\"font-weight: bold\">Model: \"sequential_5\"</span>\n",
       "</pre>\n"
      ],
      "text/plain": [
       "\u001b[1mModel: \"sequential_5\"\u001b[0m\n"
      ]
     },
     "metadata": {},
     "output_type": "display_data"
    },
    {
     "data": {
      "text/html": [
       "<pre style=\"white-space:pre;overflow-x:auto;line-height:normal;font-family:Menlo,'DejaVu Sans Mono',consolas,'Courier New',monospace\">┏━━━━━━━━━━━━━━━━━━━━━━━━━━━━━━━━━┳━━━━━━━━━━━━━━━━━━━━━━━━┳━━━━━━━━━━━━━━━┓\n",
       "┃<span style=\"font-weight: bold\"> Layer (type)                    </span>┃<span style=\"font-weight: bold\"> Output Shape           </span>┃<span style=\"font-weight: bold\">       Param # </span>┃\n",
       "┡━━━━━━━━━━━━━━━━━━━━━━━━━━━━━━━━━╇━━━━━━━━━━━━━━━━━━━━━━━━╇━━━━━━━━━━━━━━━┩\n",
       "│ dense_16 (<span style=\"color: #0087ff; text-decoration-color: #0087ff\">Dense</span>)                │ (<span style=\"color: #00d7ff; text-decoration-color: #00d7ff\">None</span>, <span style=\"color: #00af00; text-decoration-color: #00af00\">20</span>)             │           <span style=\"color: #00af00; text-decoration-color: #00af00\">280</span> │\n",
       "├─────────────────────────────────┼────────────────────────┼───────────────┤\n",
       "│ dense_17 (<span style=\"color: #0087ff; text-decoration-color: #0087ff\">Dense</span>)                │ (<span style=\"color: #00d7ff; text-decoration-color: #00d7ff\">None</span>, <span style=\"color: #00af00; text-decoration-color: #00af00\">10</span>)             │           <span style=\"color: #00af00; text-decoration-color: #00af00\">210</span> │\n",
       "├─────────────────────────────────┼────────────────────────┼───────────────┤\n",
       "│ dense_18 (<span style=\"color: #0087ff; text-decoration-color: #0087ff\">Dense</span>)                │ (<span style=\"color: #00d7ff; text-decoration-color: #00d7ff\">None</span>, <span style=\"color: #00af00; text-decoration-color: #00af00\">5</span>)              │            <span style=\"color: #00af00; text-decoration-color: #00af00\">55</span> │\n",
       "├─────────────────────────────────┼────────────────────────┼───────────────┤\n",
       "│ dense_19 (<span style=\"color: #0087ff; text-decoration-color: #0087ff\">Dense</span>)                │ (<span style=\"color: #00d7ff; text-decoration-color: #00d7ff\">None</span>, <span style=\"color: #00af00; text-decoration-color: #00af00\">3</span>)              │            <span style=\"color: #00af00; text-decoration-color: #00af00\">18</span> │\n",
       "└─────────────────────────────────┴────────────────────────┴───────────────┘\n",
       "</pre>\n"
      ],
      "text/plain": [
       "┏━━━━━━━━━━━━━━━━━━━━━━━━━━━━━━━━━┳━━━━━━━━━━━━━━━━━━━━━━━━┳━━━━━━━━━━━━━━━┓\n",
       "┃\u001b[1m \u001b[0m\u001b[1mLayer (type)                   \u001b[0m\u001b[1m \u001b[0m┃\u001b[1m \u001b[0m\u001b[1mOutput Shape          \u001b[0m\u001b[1m \u001b[0m┃\u001b[1m \u001b[0m\u001b[1m      Param #\u001b[0m\u001b[1m \u001b[0m┃\n",
       "┡━━━━━━━━━━━━━━━━━━━━━━━━━━━━━━━━━╇━━━━━━━━━━━━━━━━━━━━━━━━╇━━━━━━━━━━━━━━━┩\n",
       "│ dense_16 (\u001b[38;5;33mDense\u001b[0m)                │ (\u001b[38;5;45mNone\u001b[0m, \u001b[38;5;34m20\u001b[0m)             │           \u001b[38;5;34m280\u001b[0m │\n",
       "├─────────────────────────────────┼────────────────────────┼───────────────┤\n",
       "│ dense_17 (\u001b[38;5;33mDense\u001b[0m)                │ (\u001b[38;5;45mNone\u001b[0m, \u001b[38;5;34m10\u001b[0m)             │           \u001b[38;5;34m210\u001b[0m │\n",
       "├─────────────────────────────────┼────────────────────────┼───────────────┤\n",
       "│ dense_18 (\u001b[38;5;33mDense\u001b[0m)                │ (\u001b[38;5;45mNone\u001b[0m, \u001b[38;5;34m5\u001b[0m)              │            \u001b[38;5;34m55\u001b[0m │\n",
       "├─────────────────────────────────┼────────────────────────┼───────────────┤\n",
       "│ dense_19 (\u001b[38;5;33mDense\u001b[0m)                │ (\u001b[38;5;45mNone\u001b[0m, \u001b[38;5;34m3\u001b[0m)              │            \u001b[38;5;34m18\u001b[0m │\n",
       "└─────────────────────────────────┴────────────────────────┴───────────────┘\n"
      ]
     },
     "metadata": {},
     "output_type": "display_data"
    },
    {
     "data": {
      "text/html": [
       "<pre style=\"white-space:pre;overflow-x:auto;line-height:normal;font-family:Menlo,'DejaVu Sans Mono',consolas,'Courier New',monospace\"><span style=\"font-weight: bold\"> Total params: </span><span style=\"color: #00af00; text-decoration-color: #00af00\">563</span> (2.20 KB)\n",
       "</pre>\n"
      ],
      "text/plain": [
       "\u001b[1m Total params: \u001b[0m\u001b[38;5;34m563\u001b[0m (2.20 KB)\n"
      ]
     },
     "metadata": {},
     "output_type": "display_data"
    },
    {
     "data": {
      "text/html": [
       "<pre style=\"white-space:pre;overflow-x:auto;line-height:normal;font-family:Menlo,'DejaVu Sans Mono',consolas,'Courier New',monospace\"><span style=\"font-weight: bold\"> Trainable params: </span><span style=\"color: #00af00; text-decoration-color: #00af00\">563</span> (2.20 KB)\n",
       "</pre>\n"
      ],
      "text/plain": [
       "\u001b[1m Trainable params: \u001b[0m\u001b[38;5;34m563\u001b[0m (2.20 KB)\n"
      ]
     },
     "metadata": {},
     "output_type": "display_data"
    },
    {
     "data": {
      "text/html": [
       "<pre style=\"white-space:pre;overflow-x:auto;line-height:normal;font-family:Menlo,'DejaVu Sans Mono',consolas,'Courier New',monospace\"><span style=\"font-weight: bold\"> Non-trainable params: </span><span style=\"color: #00af00; text-decoration-color: #00af00\">0</span> (0.00 B)\n",
       "</pre>\n"
      ],
      "text/plain": [
       "\u001b[1m Non-trainable params: \u001b[0m\u001b[38;5;34m0\u001b[0m (0.00 B)\n"
      ]
     },
     "metadata": {},
     "output_type": "display_data"
    },
    {
     "data": {
      "text/plain": [
       "None"
      ]
     },
     "metadata": {},
     "output_type": "display_data"
    }
   ],
   "source": [
    "from tensorflow.keras.models import Sequential\n",
    "from tensorflow.keras.layers import Dense, Input\n",
    "\n",
    "model = Sequential([\n",
    "    Input(shape=(X.shape[1],)),\n",
    "    Dense(20, activation='relu'),\n",
    "    Dense(10, activation='relu'),\n",
    "    Dense(5, activation='relu'),\n",
    "    Dense(T.shape[1], activation='softmax')\n",
    "])\n",
    "\n",
    "display(model.summary())"
   ]
  },
  {
   "cell_type": "markdown",
   "id": "0be4591f",
   "metadata": {},
   "source": [
    "A partir del archivo Vinos.csv, se entrenó un modelo de red neuronal multicapa (MLP) con una única capa oculta compuesta por 8 neuronas, con el objetivo de predecir el tipo de vino correspondiente a cada muestra. Todas las variables fueron normalizadas utilizando media y desvío estándar, y el conjunto completo de ejemplos se utilizó para el entrenamiento (sin división entre entrenamiento y prueba).\n",
    "\n",
    "La función de activación de la capa de salida fue 'softmax' y se utilizó el optimizador SGD con una tasa de aprendizaje (learning_rate) de 0.05. El entrenamiento se realizó durante  50 épocas, con un tamaño de lote (batch size) de 20. Para garantizar la reproducibilidad de los resultados, se fijó la semilla aleatoria de TensorFlow con el siguiente comando:\n",
    "\n",
    "import tensorflow as tf  \n",
    "\n",
    "tf.random.set_seed(1)\n",
    "\n",
    "Se evaluaron dos opciones para la función de activación de la capa oculta: 'sigmoid' y 'relu'. Luego del entrenamiento, se calculó el accuracy utilizando el mismo conjunto completo de datos como entrada.\n",
    "\n",
    "Indique cuál de las siguientes afirmaciones es verdadera:"
   ]
  },
  {
   "cell_type": "code",
   "execution_count": 20,
   "id": "59dc8442",
   "metadata": {},
   "outputs": [
    {
     "name": "stdout",
     "output_type": "stream",
     "text": [
      "\n",
      "Accuracy final (entrenamiento): 0.9775\n",
      "Accuracy final (validación): 0.9831\n",
      "\n",
      "Accuracy final (entrenamiento): 0.9775\n",
      "Accuracy final (validación): 0.9775\n"
     ]
    }
   ],
   "source": [
    "from tensorflow.keras.optimizers import SGD\n",
    "\n",
    "\n",
    "tf.random.set_seed(1)\n",
    "optimizer = SGD(learning_rate=0.05)\n",
    "\n",
    "model = Sequential([\n",
    "    Input(shape=(X.shape[1],)),\n",
    "    Dense(8, activation='sigmoid'),\n",
    "    Dense(T.shape[1], activation='softmax')\n",
    "])\n",
    "\n",
    "model.compile(optimizer=optimizer, \n",
    "              loss='categorical_crossentropy', \n",
    "              metrics=['accuracy']\n",
    "              )\n",
    "history = model.fit(X, T, \n",
    "                    validation_data=(X, T),\n",
    "                    epochs=50, \n",
    "                    batch_size=20,\n",
    "                    verbose=0)\n",
    "\n",
    "# Imprimir los accuracies almacenados en history (primer entrenamiento)\n",
    "train_acc = history.history['accuracy']\n",
    "val_acc = history.history['val_accuracy']\n",
    "\n",
    "# print(\"Accuracy por época (entrenamiento):\")\n",
    "# for i, a in enumerate(train_acc, start=1):\n",
    "#   print(f\"época {i}: {a:.4f}\")\n",
    "\n",
    "# print(\"\\nAccuracy por época (validación):\")\n",
    "# for i, a in enumerate(val_acc, start=1):\n",
    "#   print(f\"época {i}: {a:.4f}\")\n",
    "\n",
    "print(f\"\\nAccuracy final (entrenamiento): {train_acc[-1]:.4f}\")\n",
    "print(f\"Accuracy final (validación): {val_acc[-1]:.4f}\")\n",
    "\n",
    "\n",
    "tf.random.set_seed(1)\n",
    "optimizer = SGD(learning_rate=0.05)\n",
    "\n",
    "model = Sequential([\n",
    "    Input(shape=(X.shape[1],)),\n",
    "    Dense(8, activation='relu'),\n",
    "    Dense(T.shape[1], activation='softmax')\n",
    "])\n",
    "\n",
    "model.compile(optimizer=optimizer, \n",
    "              loss='categorical_crossentropy', \n",
    "              metrics=['accuracy']\n",
    "              )\n",
    "history = model.fit(X, T, \n",
    "                    validation_data=(X, T),\n",
    "                    epochs=50, \n",
    "                    batch_size=20,\n",
    "                    verbose=0)\n",
    "# Imprimir los accuracies almacenados en history (primer entrenamiento)\n",
    "train_acc = history.history['accuracy']\n",
    "val_acc = history.history['val_accuracy']\n",
    "\n",
    "# print(\"Accuracy por época (entrenamiento):\")\n",
    "# for i, a in enumerate(train_acc, start=1):\n",
    "#   print(f\"época {i}: {a:.4f}\")\n",
    "\n",
    "# print(\"\\nAccuracy por época (validación):\")\n",
    "# for i, a in enumerate(val_acc, start=1):\n",
    "#   print(f\"época {i}: {a:.4f}\")\n",
    "\n",
    "print(f\"\\nAccuracy final (entrenamiento): {train_acc[-1]:.4f}\")\n",
    "print(f\"Accuracy final (validación): {val_acc[-1]:.4f}\")\n"
   ]
  },
  {
   "cell_type": "markdown",
   "id": "94a049e5",
   "metadata": {},
   "source": [
    "A partir de los ejemplos del archivo Vinos.csv se entrenó un multiperceptrón con una sola capa oculta formada por 10 neuronas para predecir el tipo de vino de una muestra dada. Las funciones de activación para las capas oculta y de salida son “tanh” y “sigmoid” respectivamente.\n",
    "\n",
    "Indique cuáles de los siguientes factores inciden en la dirección de cambio (signo de la modificación) de los pesos de la red:"
   ]
  },
  {
   "cell_type": "markdown",
   "id": "a685f695",
   "metadata": {},
   "source": [
    "El valor de la derivada de la función de activación\n",
    "\n",
    "El error cometido en la predicción"
   ]
  }
 ],
 "metadata": {
  "kernelspec": {
   "display_name": "AAP",
   "language": "python",
   "name": "python3"
  },
  "language_info": {
   "codemirror_mode": {
    "name": "ipython",
    "version": 3
   },
   "file_extension": ".py",
   "mimetype": "text/x-python",
   "name": "python",
   "nbconvert_exporter": "python",
   "pygments_lexer": "ipython3",
   "version": "3.13.7"
  }
 },
 "nbformat": 4,
 "nbformat_minor": 5
}
