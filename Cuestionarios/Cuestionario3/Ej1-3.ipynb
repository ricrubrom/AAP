{
 "cells": [
  {
   "cell_type": "markdown",
   "id": "c3e02da8",
   "metadata": {},
   "source": [
    "Se utilizó un dataset formado por 384000 ejemplos para entrenar un multiperceptrón durante 750 épocas. La técnica de optimización elegida fue SGD mini-batch con un tamaño de lote de 256. Responder:"
   ]
  },
  {
   "cell_type": "code",
   "execution_count": 2,
   "id": "86472814",
   "metadata": {},
   "outputs": [],
   "source": [
    "ejemplos=384000\n",
    "epochs=750\n",
    "batch_size=256\n"
   ]
  },
  {
   "cell_type": "markdown",
   "id": "86f19a92",
   "metadata": {},
   "source": [
    "¿cuántas veces se ingresó cada ejemplo a la red hasta completar el entrenamiento?\n",
    "\n",
    "\n",
    "Mismas que las Epocas, 750"
   ]
  },
  {
   "cell_type": "markdown",
   "id": "7fddba8a",
   "metadata": {},
   "source": [
    "¿Cuántas iteraciones se realizan en cada época?"
   ]
  },
  {
   "cell_type": "code",
   "execution_count": 3,
   "id": "9d4fb8eb",
   "metadata": {},
   "outputs": [
    {
     "data": {
      "text/plain": [
       "1500.0"
      ]
     },
     "metadata": {},
     "output_type": "display_data"
    }
   ],
   "source": [
    "display(ejemplos/batch_size)"
   ]
  },
  {
   "cell_type": "markdown",
   "id": "3e74e19c",
   "metadata": {},
   "source": [
    "¿Cuántas veces se actualizaron los pesos de toda la red?"
   ]
  },
  {
   "cell_type": "code",
   "execution_count": 4,
   "id": "273ee584",
   "metadata": {},
   "outputs": [
    {
     "data": {
      "text/plain": [
       "1125000.0"
      ]
     },
     "metadata": {},
     "output_type": "display_data"
    }
   ],
   "source": [
    "display((ejemplos/batch_size)*epochs)"
   ]
  }
 ],
 "metadata": {
  "kernelspec": {
   "display_name": "AAP",
   "language": "python",
   "name": "python3"
  },
  "language_info": {
   "codemirror_mode": {
    "name": "ipython",
    "version": 3
   },
   "file_extension": ".py",
   "mimetype": "text/x-python",
   "name": "python",
   "nbconvert_exporter": "python",
   "pygments_lexer": "ipython3",
   "version": "3.13.7"
  }
 },
 "nbformat": 4,
 "nbformat_minor": 5
}
