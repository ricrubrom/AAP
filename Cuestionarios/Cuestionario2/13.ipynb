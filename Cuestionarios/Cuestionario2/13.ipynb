{
 "cells": [
  {
   "cell_type": "code",
   "execution_count": 5,
   "id": "0173b142",
   "metadata": {},
   "outputs": [
    {
     "name": "stdout",
     "output_type": "stream",
     "text": [
      "MSE: 600.1121860487085\n"
     ]
    }
   ],
   "source": [
    "import pandas as pd\n",
    "import numpy as np\n",
    "from ClassNeuronaLineal import *\n",
    "import matplotlib.pyplot as plt\n",
    "import seaborn as sns\n",
    "from sklearn.preprocessing import StandardScaler\n",
    "\n",
    "ALPHA = 0.01\n",
    "MAX_ITE = 100000\n",
    "COTA = 10e-6\n",
    "\n",
    "DATOS_DIR   = '../../Practicas/Practica3/Data/'\n",
    "data = pd.read_csv(DATOS_DIR + 'CCPP.csv')\n",
    "X = data.drop(columns=['PE']).values\n",
    "Y = data['PE'].values.reshape(-1, 1)\n",
    "\n",
    "scaler = StandardScaler()\n",
    "\n",
    "data_scaler , targer_scaler= StandardScaler(), StandardScaler()\n",
    "X = scaler.fit_transform(X)\n",
    "T = targer_scaler.fit_transform(Y)\n",
    "\n",
    "# corr = data.corr()\n",
    "# sns.heatmap(corr, annot=True, cmap='coolwarm')\n",
    "# plt.title('Matriz de correlación lineal')\n",
    "\n",
    "pesos = [\n",
    "\t-15.0,\n",
    "\t-4.0,\n",
    "\t-0.1,\n",
    "\t-2.0\n",
    "]\n",
    "\n",
    "b = 455.75\n",
    "\n",
    "nnp=NeuronaLineal(alpha=ALPHA, n_iter=MAX_ITE, cotaE=COTA,draw=0)\n",
    "nnp.b_ = b\n",
    "nnp.w_ = pesos\n",
    "y_pred = nnp.predict(X)\n",
    "mse = np.mean((Y - y_pred) ** 2)\n",
    "print(f'MSE: {mse}')"
   ]
  }
 ],
 "metadata": {
  "kernelspec": {
   "display_name": "AAP",
   "language": "python",
   "name": "python3"
  },
  "language_info": {
   "codemirror_mode": {
    "name": "ipython",
    "version": 3
   },
   "file_extension": ".py",
   "mimetype": "text/x-python",
   "name": "python",
   "nbconvert_exporter": "python",
   "pygments_lexer": "ipython3",
   "version": "3.13.7"
  }
 },
 "nbformat": 4,
 "nbformat_minor": 5
}
