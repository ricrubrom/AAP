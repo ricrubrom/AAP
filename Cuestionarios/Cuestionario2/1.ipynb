{
 "cells": [
  {
   "cell_type": "markdown",
   "id": "7cfbc7be",
   "metadata": {},
   "source": [
    "# Pregunta 1"
   ]
  },
  {
   "cell_type": "code",
   "execution_count": 8,
   "id": "b19aed8c",
   "metadata": {},
   "outputs": [
    {
     "name": "stdout",
     "output_type": "stream",
     "text": [
      "Antes era  f( 1 ,  0.5 ) =  0.26666666666666666\n",
      "Gradiente en ese punto: ( -0.01777777777777778 ,  -0.21333333333333335 )\n",
      "f( 0.7071209787638093 ,  5.7565329343027845e-08 ) =  0.3535533905220072\n"
     ]
    }
   ],
   "source": [
    "from sympy import symbols, diff, lambdify\n",
    "\n",
    "x, y = symbols('x y', real=True)\n",
    "f = x/(2*x**2 + 3*y**2+ 1)\n",
    "df_dx = diff(f, x)\n",
    "df_dy = diff(f, y)\n",
    "\n",
    "# Convierte a funciones numéricas\n",
    "f_num = lambdify((x, y), f, 'numpy')\n",
    "df_dx_num = lambdify((x, y), df_dx, 'numpy')\n",
    "df_dy_num = lambdify((x, y), df_dy, 'numpy')\n",
    "\n",
    "(px, py) = (1, 0.5)\n",
    "ALPHA = 0.1\n",
    "COTA = 010e-12\n",
    "MAX_ITER = 1000\n",
    "\n",
    "print(\"Antes era \", \"f(\", px, \", \", py, \") = \", f_num(px, py))\n",
    "print(\"Gradiente en ese punto: (\", df_dx_num(px, py), \", \", df_dy_num(px, py), \")\")\n",
    "for i in range(MAX_ITER):\n",
    "    x_new = px + ALPHA * df_dx_num(px, py)\n",
    "    y_new = py + ALPHA * df_dy_num(px, py)\n",
    "    if abs(f_num(x_new, y_new) - f_num(px, py)) < COTA:\n",
    "        break\n",
    "    px, py = x_new, y_new\n",
    "\n",
    "print(\"f(\", px, \", \", py, \") = \", f_num(px, py))"
   ]
  }
 ],
 "metadata": {
  "kernelspec": {
   "display_name": "AAP",
   "language": "python",
   "name": "python3"
  },
  "language_info": {
   "codemirror_mode": {
    "name": "ipython",
    "version": 3
   },
   "file_extension": ".py",
   "mimetype": "text/x-python",
   "name": "python",
   "nbconvert_exporter": "python",
   "pygments_lexer": "ipython3",
   "version": "3.13.7"
  }
 },
 "nbformat": 4,
 "nbformat_minor": 5
}
