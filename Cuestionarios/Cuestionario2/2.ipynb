{
 "cells": [
  {
   "cell_type": "code",
   "execution_count": null,
   "id": "29ea80f4",
   "metadata": {},
   "outputs": [
    {
     "name": "stdout",
     "output_type": "stream",
     "text": [
      "j =  1.0089812746974332  y k =  11.014532007722746  minimizan el valor de la vivienda.\n",
      "Precio mínimo: 100.0001114739323  miles de dólares.\n"
     ]
    }
   ],
   "source": [
    "import random\n",
    "import sympy as sp\n",
    "\n",
    "# Definir variables simbólicas\n",
    "j, k = sp.symbols('j k', real=True)\n",
    "\n",
    "# Definir la función objetivo\n",
    "P = k**2 - 2*j*k + 2*(j**2) + 18*j - 20*k + 201\n",
    "\n",
    "# Calcular gradientes simbólicos\n",
    "dP_dj = sp.diff(P, j)\n",
    "dP_dk = sp.diff(P, k)\n",
    "\n",
    "# Convertir a funciones numéricas\n",
    "P_num = sp.lambdify((j, k), P, 'numpy')\n",
    "dP_dj_num = sp.lambdify((j, k), dP_dj, 'numpy')\n",
    "dP_dk_num = sp.lambdify((j, k), dP_dk, 'numpy')\n",
    "\n",
    "# Inicialización\n",
    "pj = random.uniform(-10, 10)\n",
    "pk = random.uniform(-10, 10)\n",
    "j_minimo_real = 1\n",
    "k_minimo_real = 11\n",
    "ALPHA = 0.1\n",
    "COTA = 10e-55\n",
    "MAX_ITER = 100\n",
    "\n",
    "configs = [\n",
    "  {\n",
    "    \"k\": 150,\n",
    "    \"j\": 7,\n",
    "    \"alpha\": 0.2\n",
    "  },\n",
    "  {\n",
    "    \"k\": 4,\n",
    "    \"j\": 3,\n",
    "    \"alpha\": 0.05\n",
    "  },\n",
    "  {\n",
    "    \"k\": 14,\n",
    "    \"j\": 88,\n",
    "    \"alpha\": 0.1\n",
    "  }\n",
    "]\n",
    "\n",
    "for config in configs:\n",
    "    pj = config['j']\n",
    "    pk = config['k']\n",
    "    ALPHA = config['alpha']\n",
    "    for i in range(MAX_ITER):\n",
    "        grad_j = dP_dj_num(pj, pk)\n",
    "        grad_k = dP_dk_num(pj, pk)\n",
    "        pj_new = pj - ALPHA * grad_j\n",
    "        pk_new = pk - ALPHA * grad_k\n",
    "        if abs(P_num(pj_new, pk_new) - P_num(pj, pk)) < COTA:\n",
    "            break\n",
    "        pj, pk = pj_new, pk_new\n",
    "\n",
    "\n",
    "print(\"j = \", pj, \" y k = \", pk, \" minimizan el valor de la vivienda.\")\n",
    "print(\"Precio mínimo:\", P_num(pj, pk), \" miles de dólares.\")"
   ]
  }
 ],
 "metadata": {
  "kernelspec": {
   "display_name": "AAP",
   "language": "python",
   "name": "python3"
  },
  "language_info": {
   "codemirror_mode": {
    "name": "ipython",
    "version": 3
   },
   "file_extension": ".py",
   "mimetype": "text/x-python",
   "name": "python",
   "nbconvert_exporter": "python",
   "pygments_lexer": "ipython3",
   "version": "3.13.7"
  }
 },
 "nbformat": 4,
 "nbformat_minor": 5
}
