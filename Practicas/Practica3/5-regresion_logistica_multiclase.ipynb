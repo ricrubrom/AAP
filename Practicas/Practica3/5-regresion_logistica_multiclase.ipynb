{
 "cells": [
  {
   "cell_type": "markdown",
   "id": "a296898e",
   "metadata": {},
   "source": [
    "# Ejercicio 11\n",
    "\n",
    "Se busca predecir si el tipo de fármaco que se debe administrar a un paciente afectado de rinitis alérgica es el habitual o no. Se dispone de información correspondiente a las historias clínicas de pacientes atendidos previamente\n"
   ]
  },
  {
   "cell_type": "markdown",
   "id": "46ac278f",
   "metadata": {},
   "source": [
    "## Inciso a\n",
    "Numerice los atributos nominales y utilice el archivo `drugs_train.csv` para entrenar un modelo con 5 neuronas que sea capaz de predecir el tipo de fármaco que se debe administrar a un paciente afectado de rinitis alérgica."
   ]
  },
  {
   "cell_type": "code",
   "execution_count": 23,
   "id": "1f01174c",
   "metadata": {},
   "outputs": [
    {
     "name": "stderr",
     "output_type": "stream",
     "text": [
      "/tmp/ipykernel_130942/2215239812.py:9: FutureWarning: Downcasting behavior in `replace` is deprecated and will be removed in a future version. To retain the old behavior, explicitly call `result.infer_objects(copy=False)`. To opt-in to the future behavior, set `pd.set_option('future.no_silent_downcasting', True)`\n",
      "  train_data['Sex']=train_data['Sex'].replace({'M':0, 'F':1})\n",
      "/tmp/ipykernel_130942/2215239812.py:10: FutureWarning: Downcasting behavior in `replace` is deprecated and will be removed in a future version. To retain the old behavior, explicitly call `result.infer_objects(copy=False)`. To opt-in to the future behavior, set `pd.set_option('future.no_silent_downcasting', True)`\n",
      "  train_data['BP']=train_data['BP'].replace({'LOW':0,'NORMAL':1,'HIGH':2})\n",
      "/tmp/ipykernel_130942/2215239812.py:11: FutureWarning: Downcasting behavior in `replace` is deprecated and will be removed in a future version. To retain the old behavior, explicitly call `result.infer_objects(copy=False)`. To opt-in to the future behavior, set `pd.set_option('future.no_silent_downcasting', True)`\n",
      "  train_data['Cholesterol']=train_data['Cholesterol'].replace({'NORMAL':0,'HIGH':1})\n"
     ]
    },
    {
     "name": "stdout",
     "output_type": "stream",
     "text": [
      "Accuracy: 0.83\n"
     ]
    }
   ],
   "source": [
    "import pandas as pd\n",
    "import numpy as np\n",
    "from sklearn.preprocessing import StandardScaler\n",
    "from ClassRNMulticlase import RNMulticlase\n",
    "DATA_PATH='./Data/'\n",
    "# Cargar el archivo de entrenamiento\n",
    "train_data = pd.read_csv(DATA_PATH + 'drugs_train.csv')\n",
    "\n",
    "train_data['Sex']=train_data['Sex'].replace({'M':0, 'F':1})\n",
    "train_data['BP']=train_data['BP'].replace({'LOW':0,'NORMAL':1,'HIGH':2})\n",
    "train_data['Cholesterol']=train_data['Cholesterol'].replace({'NORMAL':0,'HIGH':1})\n",
    "\n",
    "scaler = StandardScaler()\n",
    "train_data[['Age', 'Na', 'K']] = scaler.fit_transform(train_data[['Age', 'Na', 'K']])\n",
    "\n",
    "X=np.array(train_data.drop(columns='Drug'))\n",
    "T=train_data['Drug']\n",
    "T = np.array(pd.get_dummies(T)*1)\n",
    "\n",
    "rnm=RNMulticlase(0.01,1000,1e-9,'sigmoid','ECM')\n",
    "\n",
    "rnm.fit(X,T)\n",
    "\n",
    "predicciones = rnm.predict(X)\n",
    "accuracy = np.mean(predicciones == np.argmax(T, axis=1))\n",
    "print(f\"Accuracy: {accuracy:.2f}\")\n"
   ]
  },
  {
   "cell_type": "markdown",
   "id": "59685489",
   "metadata": {},
   "source": [
    "\n",
    "## Inciso b\n",
    "Luego utilice el archivo `drug_test.csv` para medir la calidad del modelo."
   ]
  },
  {
   "cell_type": "code",
   "execution_count": 25,
   "id": "395b9495",
   "metadata": {},
   "outputs": [
    {
     "name": "stdout",
     "output_type": "stream",
     "text": [
      "Accuracy: 0.78\n"
     ]
    },
    {
     "name": "stderr",
     "output_type": "stream",
     "text": [
      "/tmp/ipykernel_130942/4226345011.py:3: FutureWarning: Downcasting behavior in `replace` is deprecated and will be removed in a future version. To retain the old behavior, explicitly call `result.infer_objects(copy=False)`. To opt-in to the future behavior, set `pd.set_option('future.no_silent_downcasting', True)`\n",
      "  test_data['Sex']=test_data['Sex'].replace({'M':0, 'F':1})\n",
      "/tmp/ipykernel_130942/4226345011.py:4: FutureWarning: Downcasting behavior in `replace` is deprecated and will be removed in a future version. To retain the old behavior, explicitly call `result.infer_objects(copy=False)`. To opt-in to the future behavior, set `pd.set_option('future.no_silent_downcasting', True)`\n",
      "  test_data['BP']=test_data['BP'].replace({'LOW':0,'NORMAL':1,'HIGH':2})\n",
      "/tmp/ipykernel_130942/4226345011.py:5: FutureWarning: Downcasting behavior in `replace` is deprecated and will be removed in a future version. To retain the old behavior, explicitly call `result.infer_objects(copy=False)`. To opt-in to the future behavior, set `pd.set_option('future.no_silent_downcasting', True)`\n",
      "  test_data['Cholesterol']=test_data['Cholesterol'].replace({'NORMAL':0,'HIGH':1})\n"
     ]
    }
   ],
   "source": [
    "test_data = pd.read_csv(DATA_PATH + 'drugs_test.csv')\n",
    "\n",
    "test_data['Sex']=test_data['Sex'].replace({'M':0, 'F':1})\n",
    "test_data['BP']=test_data['BP'].replace({'LOW':0,'NORMAL':1,'HIGH':2})\n",
    "test_data['Cholesterol']=test_data['Cholesterol'].replace({'NORMAL':0,'HIGH':1})\n",
    "\n",
    "scaler = StandardScaler()\n",
    "test_data[['Age', 'Na', 'K']] = scaler.fit_transform(test_data[['Age', 'Na', 'K']])\n",
    "\n",
    "test_X=np.array(test_data.drop(columns='Drug'))\n",
    "test_T=test_data['Drug']\n",
    "test_T = np.array(pd.get_dummies(test_T)*1)\n",
    "\n",
    "\n",
    "\n",
    "\n",
    "test_T = pd.get_dummies(test_data[\"Drug\"]).astype(int).to_numpy()\n",
    "test_X = test_data.drop(columns=[\"Drug\"])\n",
    "\n",
    "test_Y = rnm.predict(test_X)\n",
    "true_Y = np.argmax(test_T, axis=1)\n",
    "accuracy = np.mean(test_Y == true_Y)\n",
    "print(f\"Accuracy: {accuracy:.2f}\")"
   ]
  },
  {
   "cell_type": "markdown",
   "id": "449b005c",
   "metadata": {},
   "source": [
    "# Ejercicio 12\n",
    "\n",
    "Utilice una red neuronal formada por una única capa de salida de 3 neuronas para clasificar las muestras de\n",
    "vino del archivo `Vinos.csv` descripto en el ejercicio anterior.\n",
    "\n",
    "Realice 30 ejecuciones independientes utilizando el 60% y 80% de los ejemplos como entrenamiento y el\n",
    "resto como testeo. \n",
    "\n",
    "Utilice un máximo de 400 iteraciones y velocidades de aprendizaje 0.1, 0.2 y 0.3."
   ]
  },
  {
   "cell_type": "code",
   "execution_count": 29,
   "id": "8ccab0df",
   "metadata": {},
   "outputs": [],
   "source": [
    "from sklearn.model_selection import train_test_split\n",
    "\n",
    "def test_wine_nn(data, alphas=[0.1, 0.2, 0.3], train_sizes=[0.6, 0.8], n_runs=30, FUN='sigmoid', COSTO='ECM'):\n",
    "  results = []\n",
    "  for alpha in alphas:\n",
    "    for train_size in train_sizes:\n",
    "      accs = []\n",
    "      for _ in range(n_runs):\n",
    "        # Split data\n",
    "        X = data.drop(columns='Class')\n",
    "        T = pd.get_dummies(data['Class']).astype(int).to_numpy()\n",
    "        X_train, X_test, T_train, T_test = train_test_split(X, T, train_size=train_size, stratify=T)\n",
    "        \n",
    "        # Standardize\n",
    "        scaler = StandardScaler()\n",
    "        X_train_scaled = scaler.fit_transform(X_train)\n",
    "        X_test_scaled = scaler.transform(X_test)\n",
    "        \n",
    "        # Train model\n",
    "        rnm = RNMulticlase(alpha, 400, 1e-9, FUN=FUN, COSTO=COSTO)\n",
    "        rnm.fit(X_train_scaled, T_train)\n",
    "        \n",
    "        # Test\n",
    "        pred = rnm.predict(X_test_scaled)\n",
    "        true = np.argmax(T_test, axis=1)\n",
    "        acc = np.mean(pred == true)\n",
    "        accs.append(acc)\n",
    "      results.append({\n",
    "        'alpha': alpha,\n",
    "        'train_size': train_size,\n",
    "        'mean_acc': np.mean(accs),\n",
    "        'std_acc': np.std(accs)\n",
    "      })\n",
    "  return results\n",
    "\n",
    "data=pd.read_csv(DATA_PATH+'Vinos.csv', sep=';')\n"
   ]
  },
  {
   "cell_type": "markdown",
   "id": "ce3b88ac",
   "metadata": {},
   "source": [
    "## Inciso A\n",
    "\n",
    "Función de activación ‘sigmoid’ y función de costo ‘ECM’ (error cuadrático medio)."
   ]
  },
  {
   "cell_type": "code",
   "execution_count": 30,
   "id": "3e3735d4",
   "metadata": {},
   "outputs": [
    {
     "name": "stdout",
     "output_type": "stream",
     "text": [
      "Alpha: 0.1, Train size: 0.6, Mean accuracy: 0.94, Std: 0.02\n",
      "Alpha: 0.1, Train size: 0.8, Mean accuracy: 0.95, Std: 0.04\n",
      "Alpha: 0.2, Train size: 0.6, Mean accuracy: 0.93, Std: 0.03\n",
      "Alpha: 0.2, Train size: 0.8, Mean accuracy: 0.93, Std: 0.04\n",
      "Alpha: 0.3, Train size: 0.6, Mean accuracy: 0.94, Std: 0.02\n",
      "Alpha: 0.3, Train size: 0.8, Mean accuracy: 0.94, Std: 0.04\n"
     ]
    }
   ],
   "source": [
    "results_sig_ecm=test_wine_nn(data, FUN='sigmoid', COSTO='ECM')\n",
    "for res in results_sig_ecm:\n",
    "  print(f\"Alpha: {res['alpha']}, Train size: {res['train_size']}, Mean accuracy: {res['mean_acc']:.2f}, Std: {res['std_acc']:.2f}\")"
   ]
  },
  {
   "cell_type": "markdown",
   "id": "980207c2",
   "metadata": {},
   "source": [
    "## Inciso B\n",
    "\n",
    "Función de activación ‘sigmoid’ y función de costo ‘EC_binaria’ (entropía cruzada binaria)"
   ]
  },
  {
   "cell_type": "code",
   "execution_count": 31,
   "id": "74b7659e",
   "metadata": {},
   "outputs": [
    {
     "name": "stdout",
     "output_type": "stream",
     "text": [
      "Alpha: 0.1, Train size: 0.6, Mean accuracy: 0.93, Std: 0.02\n",
      "Alpha: 0.1, Train size: 0.8, Mean accuracy: 0.95, Std: 0.03\n",
      "Alpha: 0.2, Train size: 0.6, Mean accuracy: 0.94, Std: 0.02\n",
      "Alpha: 0.2, Train size: 0.8, Mean accuracy: 0.94, Std: 0.03\n",
      "Alpha: 0.3, Train size: 0.6, Mean accuracy: 0.93, Std: 0.02\n",
      "Alpha: 0.3, Train size: 0.8, Mean accuracy: 0.94, Std: 0.03\n"
     ]
    }
   ],
   "source": [
    "results_sig_ecb=test_wine_nn(data, FUN='sigmoid', COSTO='EC_binaria')\n",
    "for res in results_sig_ecb:\n",
    "  print(f\"Alpha: {res['alpha']}, Train size: {res['train_size']}, Mean accuracy: {res['mean_acc']:.2f}, Std: {res['std_acc']:.2f}\")"
   ]
  },
  {
   "cell_type": "markdown",
   "id": "e809a885",
   "metadata": {},
   "source": [
    "## Inciso C\n",
    "\n",
    "Función de activación ‘tanh’ y función de costo ‘ECM’ (error cuadrático medio)"
   ]
  },
  {
   "cell_type": "code",
   "execution_count": 32,
   "id": "2a96459a",
   "metadata": {},
   "outputs": [
    {
     "name": "stdout",
     "output_type": "stream",
     "text": [
      "Alpha: 0.1, Train size: 0.6, Mean accuracy: 0.52, Std: 0.06\n",
      "Alpha: 0.1, Train size: 0.8, Mean accuracy: 0.52, Std: 0.08\n",
      "Alpha: 0.2, Train size: 0.6, Mean accuracy: 0.53, Std: 0.09\n",
      "Alpha: 0.2, Train size: 0.8, Mean accuracy: 0.56, Std: 0.11\n",
      "Alpha: 0.3, Train size: 0.6, Mean accuracy: 0.58, Std: 0.11\n",
      "Alpha: 0.3, Train size: 0.8, Mean accuracy: 0.59, Std: 0.11\n"
     ]
    }
   ],
   "source": [
    "results_tanh_ecm=test_wine_nn(data, FUN='tanh', COSTO='ECM')\n",
    "for res in results_tanh_ecm:\n",
    "  print(f\"Alpha: {res['alpha']}, Train size: {res['train_size']}, Mean accuracy: {res['mean_acc']:.2f}, Std: {res['std_acc']:.2f}\")"
   ]
  },
  {
   "cell_type": "markdown",
   "id": "7ac65449",
   "metadata": {},
   "source": [
    "## Inciso D\n",
    "\n",
    "Capa ‘Softmax’ y función de costo ‘EC’ (entropía cruzada)"
   ]
  },
  {
   "cell_type": "code",
   "execution_count": 33,
   "id": "85d6596b",
   "metadata": {},
   "outputs": [
    {
     "name": "stdout",
     "output_type": "stream",
     "text": [
      "Alpha: 0.1, Train size: 0.6, Mean accuracy: 0.92, Std: 0.03\n",
      "Alpha: 0.1, Train size: 0.8, Mean accuracy: 0.93, Std: 0.04\n",
      "Alpha: 0.2, Train size: 0.6, Mean accuracy: 0.92, Std: 0.03\n",
      "Alpha: 0.2, Train size: 0.8, Mean accuracy: 0.91, Std: 0.04\n",
      "Alpha: 0.3, Train size: 0.6, Mean accuracy: 0.91, Std: 0.04\n",
      "Alpha: 0.3, Train size: 0.8, Mean accuracy: 0.93, Std: 0.04\n"
     ]
    }
   ],
   "source": [
    "results_sig_ecm=test_wine_nn(data, FUN='softmax', COSTO='EC')\n",
    "for res in results_sig_ecm:\n",
    "  print(f\"Alpha: {res['alpha']}, Train size: {res['train_size']}, Mean accuracy: {res['mean_acc']:.2f}, Std: {res['std_acc']:.2f}\")"
   ]
  }
 ],
 "metadata": {
  "kernelspec": {
   "display_name": "AAP",
   "language": "python",
   "name": "python3"
  },
  "language_info": {
   "codemirror_mode": {
    "name": "ipython",
    "version": 3
   },
   "file_extension": ".py",
   "mimetype": "text/x-python",
   "name": "python",
   "nbconvert_exporter": "python",
   "pygments_lexer": "ipython3",
   "version": "3.13.7"
  }
 },
 "nbformat": 4,
 "nbformat_minor": 5
}
