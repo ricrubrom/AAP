{
 "cells": [
  {
   "cell_type": "markdown",
   "id": "6d1033a1",
   "metadata": {},
   "source": [
    "# Ejercicio 1\n",
    "\n",
    "Dada la funcion \n",
    "$$\n",
    "  f(x,y)=\\frac{x}{2\\cdot x^2 + 3\\cdot y^2 +1}\n",
    "$$\n",
    "\n",
    "Cuyas derivadas parciales son\n",
    "\n",
    "$$\n",
    "  \\frac{\\partial f(x,y)}{\\partial x} = \\frac{-2\\cdot x^2 +3\\cdot y^2 +1}{(2\\cdot x^2 +3\\cdot y^2 +1)^2}\n",
    "$$\n",
    "\n",
    "$$\n",
    "  \\frac{\\partial f(x,y)}{\\partial y} = \\frac{-6\\cdot x\\cdot y}{(2\\cdot x^2 +3\\cdot y^2 +1)^2}\n",
    "$$"
   ]
  },
  {
   "cell_type": "markdown",
   "id": "7759378b",
   "metadata": {},
   "source": [
    "## Inciso A\n",
    "\n",
    "Indique el vector gradiente para x=1 e y=-1\n",
    "\n",
    "---\n",
    "\n",
    "Sabemos que el vector gradiente es <$\\frac{\\partial f(x,y)}{\\partial x}$,$\\frac{\\partial f(x,y)}{\\partial y}$>.\n",
    "\n",
    "Por lo que reemplazando obtenemos:"
   ]
  },
  {
   "cell_type": "code",
   "execution_count": 30,
   "id": "c860a2e1",
   "metadata": {},
   "outputs": [
    {
     "data": {
      "text/plain": [
       "(0.05555555555555555, 0.16666666666666666)"
      ]
     },
     "metadata": {},
     "output_type": "display_data"
    }
   ],
   "source": [
    "def dfx(x, y):\n",
    "  return (-2*(x**2)+3*(y**2)+1.0)/((2*(x**2)+3*(y**2)+1.0)**2)\n",
    "def dfy(x, y):\n",
    "  return (-6*x*y)/((2*(x**2)+3*(y**2)+1.0)**2)\n",
    "\n",
    "def grad(x, y):\n",
    "  return (dfx(x,y), dfy(x,y))\n",
    "\n",
    "\n",
    "display(grad(1,-1))"
   ]
  },
  {
   "cell_type": "markdown",
   "id": "4a01a3d4",
   "metadata": {},
   "source": [
    "## Inciso B\n",
    "\n",
    "Si a partir de (𝑥 = 0.20; 𝑦 = −1) tuviera que elegir una dirección en la cual la función crezca, qué acción tomaría?\n",
    "1. Incrementar los valores de x e y\n",
    "2. Disminuir los valores de x e y\n",
    "3. Incrementar el valor de x y disminuir el de y\n",
    "4. Disminuir el valor de x e incrementar el de y\n",
    "\n",
    "---\n",
    "\n",
    "Como se puede ver, creceria en ambos sentidos."
   ]
  },
  {
   "cell_type": "code",
   "execution_count": 31,
   "id": "d84f0bec",
   "metadata": {},
   "outputs": [
    {
     "data": {
      "text/plain": [
       "(0.23548635140330643, 0.07208765859284892)"
      ]
     },
     "metadata": {},
     "output_type": "display_data"
    }
   ],
   "source": [
    "new_gradient=(grad(0.2,-1))\n",
    "display(new_gradient)"
   ]
  },
  {
   "cell_type": "markdown",
   "id": "9a096f23",
   "metadata": {},
   "source": [
    "## Inciso C\n",
    "\n",
    "Una vez elegida la dirección en b), el movimiento a realizar será una fracción del módulo del vector gradiente. ¿Cuál sería la nueva posición si se considera alfa = 0.1? ¿cuál es el valor de la función en la nueva ubicación?"
   ]
  },
  {
   "cell_type": "code",
   "execution_count": 32,
   "id": "7b31625a",
   "metadata": {},
   "outputs": [
    {
     "data": {
      "text/plain": [
       "(0.22354863514033066, -0.9927912341407151)"
      ]
     },
     "metadata": {},
     "output_type": "display_data"
    },
    {
     "data": {
      "text/plain": [
       "0.05510397578158922"
      ]
     },
     "metadata": {},
     "output_type": "display_data"
    }
   ],
   "source": [
    "def f(x,y):\n",
    "  return x/(2*(x**2)+3*(y**2)+1.0)\n",
    "\n",
    "alfa=0.1\n",
    "\n",
    "new_pos = (0.2 + alfa * new_gradient[0], -1 + alfa * new_gradient[1])\n",
    "\n",
    "display(new_pos)\n",
    "display(f(*new_pos))\n"
   ]
  },
  {
   "cell_type": "markdown",
   "id": "71fc20c1",
   "metadata": {},
   "source": [
    "## Inciso D\n",
    "\n",
    "Considere nuevamente las opciones del inciso b) pero ahora debe buscar una dirección, a partir de (𝑥 = 0.20; 𝑦 = −1), en la cual la función disminuya ¿cuál sería su elección?\n",
    "\n",
    "---\n",
    "\n",
    "La respuesta seria la -gradiente"
   ]
  },
  {
   "cell_type": "markdown",
   "id": "ed5ebc23",
   "metadata": {},
   "source": [
    "## Inciso E\n",
    "\n",
    "Repita lo solicitado en c) para la dirección elegida en d) donde el objetivo fue hallar una ubicación donde la función tome un valor menor."
   ]
  },
  {
   "cell_type": "code",
   "execution_count": 33,
   "id": "b16c9abd",
   "metadata": {},
   "outputs": [
    {
     "data": {
      "text/plain": [
       "(0.17645136485966936, -1.007208765859285)"
      ]
     },
     "metadata": {},
     "output_type": "display_data"
    },
    {
     "data": {
      "text/plain": [
       "0.04297739286708402"
      ]
     },
     "metadata": {},
     "output_type": "display_data"
    }
   ],
   "source": [
    "new_gradient = tuple(-x for x in new_gradient)\n",
    "\n",
    "new_pos = (0.2 + alfa * new_gradient[0], -1 + alfa * new_gradient[1])\n",
    "\n",
    "display(new_pos)\n",
    "display(f(*new_pos))"
   ]
  },
  {
   "cell_type": "markdown",
   "id": "1c406e5a",
   "metadata": {},
   "source": [
    "## Inciso F\n",
    "\n",
    "Utilice la técnica del descenso de gradiente para calcular el valor y la ubicación del mínimo de la función 𝑓(𝑥, 𝑦) que se observa en la figura."
   ]
  },
  {
   "cell_type": "code",
   "execution_count": 34,
   "id": "b8e11896",
   "metadata": {},
   "outputs": [
    {
     "data": {
      "text/plain": [
       "(-0.7071199927830555, -3.1143054109284157e-07)"
      ]
     },
     "metadata": {},
     "output_type": "display_data"
    },
    {
     "data": {
      "text/plain": [
       "-0.353553390531512"
      ]
     },
     "metadata": {},
     "output_type": "display_data"
    }
   ],
   "source": [
    "# Descenso de gradiente para encontrar el mínimo de f(x, y)\n",
    "x, y = 0.2, -1\n",
    "tolerance = 1e-6\n",
    "max_iter = 1000\n",
    "\n",
    "for i in range(max_iter):\n",
    "  gradiente = grad(x, y)\n",
    "  x_new = x - alfa * gradiente[0]\n",
    "  y_new = y - alfa * gradiente[1]\n",
    "  if abs(x_new - x) < tolerance and abs(y_new - y) < tolerance:\n",
    "    break\n",
    "  x, y = x_new, y_new\n",
    "\n",
    "min_pos = (x, y)\n",
    "min_val = f(x, y)\n",
    "\n",
    "display(min_pos)\n",
    "display(min_val)"
   ]
  },
  {
   "cell_type": "markdown",
   "id": "e3dee0f6",
   "metadata": {},
   "source": [
    "## Inciso g\n",
    "\n",
    "Idem f) para el maximo de la funcion"
   ]
  },
  {
   "cell_type": "code",
   "execution_count": 35,
   "id": "6f899478",
   "metadata": {},
   "outputs": [
    {
     "data": {
      "text/plain": [
       "(0.7071200856679183, -3.2865937215791657e-07)"
      ]
     },
     "metadata": {},
     "output_type": "display_data"
    },
    {
     "data": {
      "text/plain": [
       "0.3535533905306355"
      ]
     },
     "metadata": {},
     "output_type": "display_data"
    }
   ],
   "source": [
    "# Descenso de gradiente para encontrar el mínimo de f(x, y)\n",
    "x, y = 0.2, -1\n",
    "tolerance = 1e-6\n",
    "max_iter = 1000\n",
    "\n",
    "for i in range(max_iter):\n",
    "  gradiente = grad(x, y)\n",
    "  x_new = x + alfa * gradiente[0]\n",
    "  y_new = y + alfa * gradiente[1]\n",
    "  if abs(x_new - x) < tolerance and abs(y_new - y) < tolerance:\n",
    "    break\n",
    "  x, y = x_new, y_new\n",
    "\n",
    "min_pos = (x, y)\n",
    "min_val = f(x, y)\n",
    "\n",
    "display(min_pos)\n",
    "display(min_val)"
   ]
  },
  {
   "cell_type": "markdown",
   "id": "b3b45c58",
   "metadata": {},
   "source": [
    "# Ejercicio 2\n",
    "\n",
    "El precio de una vivienda está dado por dos factores, la proximidad a centros comerciales, financieros, vías y demás que se mide a través del factor j, y de la condición misma de la vivienda que se mide por el factor k. La relación entre estos factores y el precio de la vivienda en un barrio determinado está dada por:\n",
    "\n",
    "$$\n",
    "  P(j,k)=k^2-2\\cdot j\\cdot k +2\\cdot j^2 +18\\cdot j -20\\cdot k +201 ~~~~~  (Dolares)\n",
    "$$\n",
    "\n",
    "Utilice la técnica de descenso de gradiente para determinar los valores de j y k que minimizan el precio de la vivienda."
   ]
  },
  {
   "cell_type": "code",
   "execution_count": 36,
   "id": "aae3d93d",
   "metadata": {},
   "outputs": [
    {
     "data": {
      "text/plain": [
       "(0.9999921110421357, 10.99998723539804)"
      ]
     },
     "metadata": {},
     "output_type": "display_data"
    },
    {
     "data": {
      "text/plain": [
       "100.00000000008602"
      ]
     },
     "metadata": {},
     "output_type": "display_data"
    }
   ],
   "source": [
    "def P(j,k):\n",
    "  return k**2 -2*j*k + 2*j**2 + 18*j -20*k + 201\n",
    "\n",
    "def dPj(j,k):\n",
    "  return -2*k + 4*j + 18\n",
    "\n",
    "def dPk(j,k):\n",
    "  return 2*k -2*j -20\n",
    "\n",
    "def gradP(j,k):\n",
    "  return (dPj(j,k),dPk(j,k))\n",
    "\n",
    "# Descenso de gradiente para encontrar el mínimo de f(x, y)\n",
    "j, k = 1, -1\n",
    "tolerance = 1e-6\n",
    "max_iter = 1000\n",
    "\n",
    "for i in range(max_iter):\n",
    "  gradiente = gradP(j, k)\n",
    "  j_new = j - alfa * gradiente[0]\n",
    "  k_new = k - alfa * gradiente[1]\n",
    "  if abs(j_new - j) < tolerance and abs(k_new - k) < tolerance:\n",
    "    break\n",
    "  j, k = j_new, k_new\n",
    "\n",
    "min_pos = (j, k)\n",
    "min_val = P(j, k)\n",
    "\n",
    "display(min_pos)\n",
    "display(min_val)"
   ]
  }
 ],
 "metadata": {
  "kernelspec": {
   "display_name": "AAP",
   "language": "python",
   "name": "python3"
  },
  "language_info": {
   "codemirror_mode": {
    "name": "ipython",
    "version": 3
   },
   "file_extension": ".py",
   "mimetype": "text/x-python",
   "name": "python",
   "nbconvert_exporter": "python",
   "pygments_lexer": "ipython3",
   "version": "3.13.7"
  }
 },
 "nbformat": 4,
 "nbformat_minor": 5
}
