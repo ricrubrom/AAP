{
 "cells": [
  {
   "cell_type": "markdown",
   "id": "5a8f47fe",
   "metadata": {},
   "source": [
    "# Ejercicio 6\n",
    "\n",
    "Utilice los scripts disponibles en la teoría y práctica para entrenar un combinador lineal. El modelo debe recibir tres dígitos binarios y retornar la representación decimal del número que resulta de la combinación de dígitos (para las entradas 000, 010 y 101 debe obtener las salidas 0, 2 y 5, respectivamente)"
   ]
  },
  {
   "cell_type": "markdown",
   "id": "9d5f545d",
   "metadata": {},
   "source": [
    "## Inciso a\n",
    "Utilizando el bias o peso W0 (comportamiento normal)\n"
   ]
  },
  {
   "cell_type": "code",
   "execution_count": 4,
   "id": "cebda071",
   "metadata": {},
   "outputs": [
    {
     "name": "stdout",
     "output_type": "stream",
     "text": [
      "ECM final: 7.0228685216729e-11\n",
      "Iteraciones realizadas: 34\n",
      "b_ (bias): 1.3894606895554654e-05\n"
     ]
    }
   ],
   "source": [
    "# Entrenamos la neurona lineal para que aprenda la conversión de binario a decimal\n",
    "from ClassNeuronaLineal import NeuronaLineal\n",
    "import numpy as np\n",
    "\n",
    "\n",
    "n=NeuronaLineal(0.3,700,1e-09, no_bias=False)\n",
    "\n",
    "X = np.array([\n",
    "  [0, 0, 0],\n",
    "  [0, 0, 1],\n",
    "  [0, 1, 0],\n",
    "  [0, 1, 1],\n",
    "  [1, 0, 0],\n",
    "  [1, 0, 1],\n",
    "  [1, 1, 0],\n",
    "  [1, 1, 1]\n",
    "])\n",
    "y = [0, 1, 2, 3, 4, 5, 6, 7]\n",
    "\n",
    "n.fit(X, y)\n",
    "\n",
    "# Calcular el ECM final después del entrenamiento\n",
    "y_pred = [n.predict(x) for x in X]\n",
    "ecm_final = np.mean((np.array(y_pred) - np.array(y))**2)\n",
    "print(f\"ECM final: {ecm_final}\")\n",
    "print(f\"Iteraciones realizadas: {n.iterations_}\")\n",
    "print(f\"b_ (bias): {n.b_}\")\n",
    "\n"
   ]
  },
  {
   "cell_type": "markdown",
   "id": "893137c6",
   "metadata": {},
   "source": [
    "## Inciso b\n",
    "Utilizando únicamente las tres entradas correspondientes a los dígitos binarios anulando el bias o W0 del cálculo."
   ]
  },
  {
   "cell_type": "code",
   "execution_count": 3,
   "id": "0a5813c8",
   "metadata": {},
   "outputs": [
    {
     "name": "stdout",
     "output_type": "stream",
     "text": [
      "ECM final: 2.5700127434593624e-12\n",
      "Iteraciones realizadas: 18\n"
     ]
    }
   ],
   "source": [
    "n=NeuronaLineal(0.3,700,1e-09, no_bias=True)\n",
    "\n",
    "n.fit(X, y)\n",
    "\n",
    "# Calcular el ECM final después del entrenamiento\n",
    "y_pred = [n.predict(x) for x in X]\n",
    "ecm_final = np.mean((np.array(y_pred) - np.array(y))**2)\n",
    "print(f\"ECM final: {ecm_final}\")\n",
    "print(f\"Iteraciones realizadas: {n.iterations_}\")"
   ]
  },
  {
   "cell_type": "markdown",
   "id": "c1c0e3ea",
   "metadata": {},
   "source": [
    "## Inciso C\n",
    "\n",
    "Compare la cantidad de iteraciones necesarias para obtener el vector de pesos correcto en ambos casos. Observe el valor del arco correspondiente al bias en a).\n",
    "\n",
    "---\n",
    "\n",
    "Se puede ver que converge mas rapido al no tener el bias. Esto se debe a que en el origen la recta pasa 0."
   ]
  },
  {
   "cell_type": "markdown",
   "id": "1e5a6717",
   "metadata": {},
   "source": [
    "# Ejercicio 7\n",
    "\n",
    "Utilizando los atributos numéricos del archivo `Autos.csv` entrene un combinador lineal para predecir el precio del auto en función del resto de los atributos. Tenga en cuenta la existencia de valores faltantes. Realice varias ejecuciones y observe los vectores de pesos obtenidos. ¿Puede identificar cuáles son los atributos con mayor incidencia en la determinación del precio? Explique."
   ]
  },
  {
   "cell_type": "code",
   "execution_count": 5,
   "id": "6758fbde",
   "metadata": {},
   "outputs": [],
   "source": [
    "import numpy as np\n",
    "import pandas as pd\n",
    "from ClassNeuronaLineal import NeuronaLineal\n",
    "\n",
    "DATA_PATH='./Data/'\n",
    "data=pd.read_csv(DATA_PATH+'autos.csv')\n",
    "data.dtypes\n",
    "data[\"price\"] = pd.to_numeric(data[\"price\"], errors=\"coerce\")\n",
    "numeric_data = data.select_dtypes(include=[np.number])\n",
    "numeric_data.isnull().sum()\n",
    "numeric_data = numeric_data.fillna(numeric_data.mean())"
   ]
  },
  {
   "cell_type": "code",
   "execution_count": 15,
   "id": "e1bc0437",
   "metadata": {},
   "outputs": [
    {
     "name": "stdout",
     "output_type": "stream",
     "text": [
      "ECM: 0.06737348067518906\n",
      "ECM: 0.06735113347875524\n",
      "ECM: 0.06736654946842596\n",
      "ECM: 0.06737131952978348\n",
      "ECM: 0.06738281585290798\n",
      "ECM: 0.06738347190704023\n",
      "ECM: 0.06740015423944751\n",
      "ECM: 0.06740123951897903\n",
      "ECM: 0.06740688982647616\n",
      "ECM: 0.06736653216903533\n",
      "           Attribute  Mean weight (abs)\n",
      "0        engine-size           0.710378\n",
      "1           city-mpg           0.202016\n",
      "2        curb-weight           0.127860\n",
      "3  compression-ratio           0.075132\n",
      "4             height           0.074770\n",
      "5              width           0.054898\n",
      "6          symboling           0.050343\n",
      "7        highway-mpg           0.035495\n",
      "8             length           0.027275\n",
      "9         wheel-base           0.023189\n"
     ]
    }
   ],
   "source": [
    "from sklearn.preprocessing import MinMaxScaler\n",
    "\n",
    "X_raw = numeric_data.drop(\"price\", axis=1)\n",
    "T_raw = numeric_data[\"price\"].values.reshape(-1, 1)\n",
    "\n",
    "X_scaler, T_scaler = MinMaxScaler(), MinMaxScaler()\n",
    "X = X_scaler.fit_transform(X_raw)\n",
    "T = T_scaler.fit_transform(T_raw)\n",
    "\n",
    "\n",
    "attributes = [col for col in numeric_data.columns if col != \"price\"]\n",
    "\n",
    "n_runs = 10\n",
    "\n",
    "weight_abs_list = []\n",
    "\n",
    "for _ in range(n_runs):\n",
    "    nl = NeuronaLineal(0.01, 1000, 1e-9, no_bias=False)\n",
    "    nl.fit(X, T)\n",
    "    weight_abs_list.append(np.abs(nl.w_))\n",
    "    y_pred = [nl.predict(x) for x in X]\n",
    "    ecm = np.mean((y_pred - T.flatten())**2)\n",
    "    print(f\"ECM: {ecm}\")\n",
    "\n",
    "weight_abs_array = np.array(weight_abs_list)\n",
    "weight_mean = weight_abs_array.mean(axis=0)\n",
    "\n",
    "weight_df = pd.DataFrame({\n",
    "    \"Attribute\": attributes,\n",
    "    \"Mean weight (abs)\": weight_mean\n",
    "})\n",
    "\n",
    "weight_df = weight_df.sort_values(by=\"Mean weight (abs)\", ascending=False).reset_index(drop=True)\n",
    "print(weight_df)"
   ]
  }
 ],
 "metadata": {
  "kernelspec": {
   "display_name": "AAP",
   "language": "python",
   "name": "python3"
  },
  "language_info": {
   "codemirror_mode": {
    "name": "ipython",
    "version": 3
   },
   "file_extension": ".py",
   "mimetype": "text/x-python",
   "name": "python",
   "nbconvert_exporter": "python",
   "pygments_lexer": "ipython3",
   "version": "3.13.7"
  }
 },
 "nbformat": 4,
 "nbformat_minor": 5
}
