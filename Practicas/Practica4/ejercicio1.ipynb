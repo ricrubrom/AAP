{
 "cells": [
  {
   "cell_type": "markdown",
   "id": "242e3ad0",
   "metadata": {},
   "source": [
    "# Ejercicio 1\n",
    "\n",
    "Se entrenó una red neuronal multiperceptrón para resolver un problema de clasificación y al medir su desempeño sobre el conjunto de datos de entrenamiento se obtuvo la siguiente matriz de confusión:\n",
    "| | Clase 1 | Clase 2 | Clase 3 | Clase 4 | Clase 5 |\n",
    "|-----|---------|---------|---------|---------|---------|\n",
    "| **Clase 1** | 17 | 0 | 1 | 0 | 1 |\n",
    "| **Clase 2** | 0 | 12 | 0 | 0 | 0 |\n",
    "| **Clase 3** | 0 | 0 | 12 | 0 | 0 |\n",
    "| **Clase 4** | 2 | 0 | 0 | 38 | 0 |\n",
    "| **Clase 5** | 0 | 8 | 0 | 0 | 61 |\n",
    "\n"
   ]
  },
  {
   "cell_type": "markdown",
   "id": "3e6e2d36",
   "metadata": {},
   "source": [
    "# Inciso A\n",
    "\n",
    "En base a esta información, indique:\n",
    "\n",
    "- Cuántos ejemplos se utilizaron en el entrenamiento.  \n",
    "- Cuántas clases puede reconocer este multiperceptrón.  \n",
    "- Cuál es la precisión (**accuracy**) de la red sobre el conjunto de ejemplos completo.  \n",
    "- Cuáles son los valores de precisión de la red al responder por cada uno de los valores de clase (**precision**).  \n",
    "- Cuáles son los valores de sensibilidad de la red al responder por cada uno de los valores de clase (**recall**).\n"
   ]
  },
  {
   "cell_type": "markdown",
   "id": "754e491c",
   "metadata": {},
   "source": [
    "- Se utilizaron 152 ejemplos\n",
    "- Puede reconocer las 5 clases bastante bien.\n",
    "- La precisión (**accuracy**) de la red se calcula como el número de predicciones correctas dividido por el total de ejemplos.  \n",
    "    Sumando la diagonal principal de la matriz de confusión: 17 + 12 + 12 + 38 + 61 = 140  \n",
    "    Total de ejemplos: 152  \n",
    "    Precisión (**accuracy**) = 140 / 152 ≈ **0.921** (92.1%)\n",
    "- Los valores de precisión (**precision**) para cada clase se calculan como:  \n",
    "    **Precision = Verdaderos Positivos / (Verdaderos Positivos + Falsos Positivos)**\n",
    "\n",
    "    - Clase 1: 17 / (17 + 2) = 17 / 19 ≈ **0.895**\n",
    "    - Clase 2: 12 / (12 + 8) = 12 / 20 = **0.60**\n",
    "    - Clase 3: 12 / (12 + 1) = 12 / 13 ≈ **0.923**\n",
    "    - Clase 4: 38 / (38 + 0) = 38 / 38 = **1.00**\n",
    "    - Clase 5: 61 / (61 + 1) = 61 / 62 ≈ **0.984**\n",
    "- Los valores de sensibilidad (**recall**) para cada clase se calculan como:  \n",
    "    **Recall = Verdaderos Positivos / (Verdaderos Positivos + Falsos Negativos)**\n",
    "\n",
    "    - Clase 1: 17 / (17 + 2) = 17 / 19 ≈ **0.895**\n",
    "    - Clase 2: 12 / (12 + 0) = 12 / 12 = **1.00**\n",
    "    - Clase 3: 12 / (12 + 1) = 12 / 13 ≈ **0.923**\n",
    "    - Clase 4: 38 / (38 + 2) = 38 / 40 = **0.95**\n",
    "    - Clase 5: 61 / (61 + 8) = 61 / 69 ≈ **0.884**"
   ]
  },
  {
   "cell_type": "markdown",
   "id": "ff82dafd",
   "metadata": {},
   "source": [
    "# Inciso B\n",
    "\n",
    "Identifique la clase con el mejor valor de F1-score.\n"
   ]
  },
  {
   "cell_type": "markdown",
   "id": "22021fd3",
   "metadata": {},
   "source": [
    "La clase con el mejor valor de F1-score es la **Clase 4**, ya que tiene precisión (**precision**) de 1.00 y sensibilidad (**recall**) de 0.95.  \n",
    "El F1-score se calcula como:\n",
    "\n",
    "$$\n",
    "F1 = 2 \\cdot \\frac{precision \\cdot recall}{precision + recall}\n",
    "$$\n",
    "\n",
    "Para la Clase 4:\n",
    "\n",
    "$$\n",
    "F1 = 2 \\cdot \\frac{1.00 \\cdot 0.95}{1.00 + 0.95} = 2 \\cdot \\frac{0.95}{1.95} \\approx 0.974\n",
    "$$\n",
    "\n",
    "Por lo tanto, **Clase 4** tiene el mejor F1-score."
   ]
  }
 ],
 "metadata": {
  "language_info": {
   "name": "python"
  }
 },
 "nbformat": 4,
 "nbformat_minor": 5
}
