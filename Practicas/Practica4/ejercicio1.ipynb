{
 "cells": [
  {
   "cell_type": "markdown",
   "id": "242e3ad0",
   "metadata": {},
   "source": [
    "# Ejercicio 1\n",
    "\n",
    "Se entrenó una red neuronal multiperceptrón para resolver un problema de clasificación y al medir su desempeño sobre el conjunto de datos de entrenamiento se obtuvo la siguiente matriz de confusión:\n",
    "| | Clase 1 | Clase 2 | Clase 3 | Clase 4 | Clase 5 |\n",
    "|-----|---------|---------|---------|---------|---------|\n",
    "| **Clase 1** | 17 | 0 | 1 | 0 | 1 |\n",
    "| **Clase 2** | 0 | 12 | 0 | 0 | 0 |\n",
    "| **Clase 3** | 0 | 0 | 12 | 0 | 0 |\n",
    "| **Clase 4** | 2 | 0 | 0 | 38 | 0 |\n",
    "| **Clase 5** | 0 | 8 | 0 | 0 | 61 |\n",
    "\n"
   ]
  },
  {
   "cell_type": "markdown",
   "id": "3e6e2d36",
   "metadata": {},
   "source": [
    "# Inciso A\n",
    "\n",
    "- Cuántos ejemplos se utilizaron en el entrenamiento.  \n",
    "- Cuántas clases puede reconocer este multiperceptrón.  \n",
    "- Cuál es la precisión (accuracy) de la red sobre el conjunto de ejemplos completo.  \n",
    "- Cuáles son los valores de precisión de la red al responder por cada uno de los valores de clase (precision).  \n",
    "- Cuáles son los valores de sensibilidad de la red al responder por cada uno de los valores de clase (recall).\n"
   ]
  },
  {
   "cell_type": "markdown",
   "id": "ff82dafd",
   "metadata": {},
   "source": [
    "# Inciso B\n",
    "\n",
    "Identifique la clase con el mejor valor de F1-score.\n"
   ]
  }
 ],
 "metadata": {
  "language_info": {
   "name": "python"
  }
 },
 "nbformat": 4,
 "nbformat_minor": 5
}
