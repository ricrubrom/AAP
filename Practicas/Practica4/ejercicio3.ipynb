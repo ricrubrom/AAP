{
 "cells": [
  {
   "cell_type": "markdown",
   "id": "6c9be962",
   "metadata": {},
   "source": [
    "# Ejercicio 3\n",
    "\n",
    "El archivo Vinos.csv tiene información referida a 13 características químicas y/o visuales de varias muestras de vinos pertenecientes a 3 clases distintas.  \n",
    "\n",
    "Utilice el 80% de los ejemplos del archivo Vinos.csv para entrenar un multiperceptrón que sea capaz de distinguir entre las 3 clases de vinos. Observe la tasa de acierto obtenida sobre el 20% restante.  \n",
    "\n",
    "Fuente: Wine Data Set - https://archive.ics.uci.edu/ml/datasets/wine\n"
   ]
  }
 ],
 "metadata": {
  "language_info": {
   "name": "python"
  }
 },
 "nbformat": 4,
 "nbformat_minor": 5
}
