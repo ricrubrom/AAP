{
 "cells": [
  {
   "cell_type": "markdown",
   "id": "6c9be962",
   "metadata": {},
   "source": [
    "# Ejercicio 3\n",
    "\n",
    "El archivo Vinos.csv tiene información referida a 13 características químicas y/o visuales de varias muestras de vinos pertenecientes a 3 clases distintas.\n",
    "\n",
    "Utilice el 80% de los ejemplos del archivo Vinos.csv para entrenar un multiperceptrón que sea capaz que distinguir entre las 3 clases de vinos. Observe la tasa de acierto obtenida sobre el 20% restante.\n",
    "\n",
    "Fuente: Wine Data Set - https://archive.ics.uci.edu/ml/datasets/wine\n"
   ]
  },
  {
   "cell_type": "code",
   "execution_count": 40,
   "id": "ad720a11",
   "metadata": {},
   "outputs": [],
   "source": [
    "import pandas as pd\n",
    "import numpy as np\n",
    "from sklearn.model_selection import train_test_split\n",
    "from sklearn import preprocessing\n",
    "\n",
    "DATA_PATH=\"./Data/\"\n",
    "\n",
    "data=pd.read_csv(DATA_PATH+'Vinos.csv', sep=';')\n",
    "\n",
    "X = data.drop('Class', axis=1)\n",
    "T = data['Class']\n",
    "\n",
    "binarizer = preprocessing.LabelBinarizer()\n",
    "T = binarizer.fit_transform(T)\n",
    "\n",
    "X_train, X_test, T_train, T_test = train_test_split(X, T, test_size=0.2, random_state=42, stratify=T)\n"
   ]
  },
  {
   "cell_type": "code",
   "execution_count": 53,
   "id": "395d357d",
   "metadata": {},
   "outputs": [
    {
     "name": "stdout",
     "output_type": "stream",
     "text": [
      "Efectividad:  96.48%\n",
      "      Score:   0.96\n"
     ]
    },
    {
     "name": "stderr",
     "output_type": "stream",
     "text": [
      "/home/mateo/Desktop/Facultad/AAP/AAP/lib/python3.13/site-packages/sklearn/neural_network/_multilayer_perceptron.py:691: UserWarning: Got `batch_size` less than 1 or larger than sample size. It is going to be clipped\n",
      "  warnings.warn(\n"
     ]
    }
   ],
   "source": [
    "from sklearn.neural_network import MLPClassifier\n",
    "from sklearn.metrics import accuracy_score\n",
    "from sklearn.preprocessing import StandardScaler\n",
    "\n",
    "clf=MLPClassifier(solver='adam', learning_rate_init=0.05,hidden_layer_sizes=(8,), random_state=1, max_iter=2500,batch_size=200,tol=1.0e-05,n_iter_no_change=30,early_stopping=True,validation_fraction=0.2,activation='tanh')\n",
    "\n",
    "scaler = StandardScaler()\n",
    "X_train = scaler.fit_transform(X_train)\n",
    "X_test = scaler.transform(X_test)\n",
    "\n",
    "clf.fit(X_train, T_train)\n",
    "y_pred=clf.predict(X_train)\n",
    "\n",
    "# Predicción sobre entrenamiento\n",
    "Y_pred = clf.predict(X_train)\n",
    "score = clf.score(X_train, T_train)\n",
    "Y_it = binarizer.inverse_transform(T_train)\n",
    "Y_pred_it = binarizer.inverse_transform(Y_pred)\n",
    "print('Efectividad: %6.2f%%' % (100*(Y_pred_it == Y_it).sum()/len(Y_it)) )\n",
    "print('      Score: %6.2f' % (score) )"
   ]
  },
  {
   "cell_type": "code",
   "execution_count": 54,
   "id": "cd52506a",
   "metadata": {},
   "outputs": [
    {
     "name": "stdout",
     "output_type": "stream",
     "text": [
      "Efectividad:  91.67%\n",
      "      Score:   0.92\n"
     ]
    }
   ],
   "source": [
    "Y_pred = clf.predict(X_test)\n",
    "score = clf.score(X_test, T_test)\n",
    "Y_it = binarizer.inverse_transform(T_test)\n",
    "Y_pred_it = binarizer.inverse_transform(Y_pred)\n",
    "print('Efectividad: %6.2f%%' % (100*(Y_pred_it == Y_it).sum()/len(Y_it)) )\n",
    "print('      Score: %6.2f' % (score) )"
   ]
  }
 ],
 "metadata": {
  "kernelspec": {
   "display_name": "AAP",
   "language": "python",
   "name": "python3"
  },
  "language_info": {
   "codemirror_mode": {
    "name": "ipython",
    "version": 3
   },
   "file_extension": ".py",
   "mimetype": "text/x-python",
   "name": "python",
   "nbconvert_exporter": "python",
   "pygments_lexer": "ipython3",
   "version": "3.13.7"
  }
 },
 "nbformat": 4,
 "nbformat_minor": 5
}
