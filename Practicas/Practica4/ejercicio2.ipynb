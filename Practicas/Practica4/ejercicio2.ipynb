{
 "cells": [
  {
   "cell_type": "markdown",
   "id": "de6e481e",
   "metadata": {},
   "source": [
    "# Ejercicio 2\n",
    "\n",
    "Se desea utilizar una red multiperceptrón para reconocer muestras de tres variedades diferentes de trigo: Kama, Rosa y Canadiense. Para entrenarla se utilizará una parte de los ejemplos del archivo SEMILLAS.CSV.\n",
    "\n",
    "Fuente de datos: Seeds Data Set - https://archive.ics.uci.edu/ml/datasets/seeds\n"
   ]
  },
  {
   "cell_type": "markdown",
   "id": "0e06399f",
   "metadata": {},
   "source": [
    "# Inciso A\n",
    "\n",
    "Con respecto a la arquitectura, indique:\n",
    "\n",
    "- La cantidad de neuronas de la capa de entrada.  \n",
    "- La cantidad de neuronas de la capa de salida.  \n",
    "- La cantidad de pesos (arcos) que tiene la red si se utiliza una única capa oculta formada por 4 neuronas.\n"
   ]
  },
  {
   "cell_type": "markdown",
   "id": "2bdbc971",
   "metadata": {},
   "source": [
    "- 7 neuronas de entrada, una por cada campo\n",
    "- 3 neuronas de salida\n",
    "- $8*4 + 5*3=47$"
   ]
  },
  {
   "cell_type": "markdown",
   "id": "49810cce",
   "metadata": {},
   "source": [
    "# Inciso B\n",
    "\n",
    "La arquitectura del multiperceptrón utilizado para predecir los 3 tipos de semillas está formada por 3 capas: la capa de entrada, una única capa oculta de 4 neuronas y la capa de salida. Las funciones de activación para las capas oculta y de salida son “tanh” y “sigmoid” respectivamente. Indique cuáles de los siguientes factores inciden en la dirección de cambio (signo de la modificación) de los pesos de la red:\n",
    "\n",
    "Indique cuáles de los siguientes factores inciden en la dirección de cambio (signo de la modificación) de los pesos de la red:  \n",
    "- El error cometido en la predicción.  \n",
    "- El valor de la derivada de la función de activación.  \n",
    "- Los valores anteriores de los pesos de la red.\n"
   ]
  },
  {
   "cell_type": "markdown",
   "id": "1e4bba0f",
   "metadata": {},
   "source": [
    "- El error cometido en la predicción **sí** incide en la dirección de cambio de los pesos, ya que determina si los pesos deben aumentar o disminuir para reducir el error.\n",
    "- El valor de la derivada de la función de activación **también** incide, porque afecta la magnitud y dirección del ajuste de los pesos durante el retropropagado.\n",
    "- Los valores anteriores de los pesos de la red **no** inciden directamente en la dirección de cambio, ya que la actualización depende del error y la derivada, no del valor previo del peso (aunque sí influyen en el valor actualizado)."
   ]
  },
  {
   "cell_type": "markdown",
   "id": "5ddd5616",
   "metadata": {},
   "source": [
    "# Inciso C\n",
    "\n",
    "Luego de ingresar una muestra de semilla a la red se obtiene como salida (0.78, 0, 0). Utilizando la arquitectura descripta en b), indique cuántos pesos de la red serán modificados sabiendo que la respuesta esperada es (1, 0, 0)."
   ]
  },
  {
   "cell_type": "markdown",
   "id": "cf701495",
   "metadata": {},
   "source": [
    "Todos los pesos de la red serán modificados.  \n",
    "Esto se debe a que, en el aprendizaje supervisado con retropropagación, cualquier diferencia entre la salida obtenida y la esperada genera un error que se propaga hacia atrás, afectando todos los pesos conectados a las neuronas responsables de la salida.  \n",
    "Por lo tanto, los 47 pesos de la red serán ajustados en mayor o menor medida según su contribución al error."
   ]
  }
 ],
 "metadata": {
  "kernelspec": {
   "display_name": "AAP",
   "language": "python",
   "name": "python3"
  },
  "language_info": {
   "name": "python",
   "version": "3.13.7"
  }
 },
 "nbformat": 4,
 "nbformat_minor": 5
}
