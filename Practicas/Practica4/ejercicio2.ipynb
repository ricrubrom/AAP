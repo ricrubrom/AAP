{
 "cells": [
  {
   "cell_type": "markdown",
   "id": "de6e481e",
   "metadata": {},
   "source": [
    "# Ejercicio 2\n",
    "\n",
    "Se desea utilizar una red multiperceptrón para reconocer muestras de tres variedades diferentes de trigo: Kama, Rosa y Canadiense. Para entrenarla se utilizará una parte de los ejemplos del archivo SEMILLAS.CSV.  \n",
    "\n",
    "Fuente de datos: Seeds Data Set - https://archive.ics.uci.edu/ml/datasets/seeds\n"
   ]
  },
  {
   "cell_type": "markdown",
   "id": "0e06399f",
   "metadata": {},
   "source": [
    "# Inciso A\n",
    "\n",
    "- La cantidad de neuronas de la capa de entrada.  \n",
    "- La cantidad de neuronas de la capa de salida.  \n",
    "- La cantidad de pesos (arcos) que tiene la red si se utiliza una única capa oculta formada por 4 neuronas.\n"
   ]
  },
  {
   "cell_type": "markdown",
   "id": "49810cce",
   "metadata": {},
   "source": [
    "# Inciso B\n",
    "\n",
    "La arquitectura del multiperceptrón utilizado para predecir los 3 tipos de semillas está formada por 3 capas: la capa de entrada, una única capa oculta de 4 neuronas y la capa de salida. Las funciones de activación para las capas oculta y de salida son “tanh” y “sigmoid” respectivamente.  \n",
    "\n",
    "Indique cuáles de los siguientes factores inciden en la dirección de cambio (signo de la modificación) de los pesos de la red:  \n",
    "- El error cometido en la predicción.  \n",
    "- El valor de la derivada de la función de activación.  \n",
    "- Los valores anteriores de los pesos de la red.\n"
   ]
  },
  {
   "cell_type": "markdown",
   "id": "5ddd5616",
   "metadata": {},
   "source": [
    "# Inciso C\n",
    "\n",
    "Luego de ingresar una muestra de semilla a la red se obtiene como salida (0.78, 0, 0). Utilizando la arquitectura descripta en el inciso B, indique cuántos pesos de la red serán modificados sabiendo que la respuesta esperada es (1, 0, 0).\n"
   ]
  }
 ],
 "metadata": {
  "language_info": {
   "name": "python"
  }
 },
 "nbformat": 4,
 "nbformat_minor": 5
}
