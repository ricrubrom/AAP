{
 "cells": [
  {
   "cell_type": "markdown",
   "id": "bf12c28a",
   "metadata": {},
   "source": [
    "# Ejercicio 8\n",
    "\n",
    "Utilizando el archivo Iris.csv que contiene información referida a la longitud y al ancho de sépalos y pétalos de tres especies de flores: iris setosa, iris versicolor e iris virginica.\n"
   ]
  },
  {
   "cell_type": "markdown",
   "id": "46063200",
   "metadata": {},
   "source": [
    "# Inciso A\n",
    "\n",
    "Entrenar un multiperceptrón que aprenda a clasificar las 3 clases de flores.\n"
   ]
  },
  {
   "cell_type": "markdown",
   "id": "5847737f",
   "metadata": {},
   "source": [
    "# Inciso B\n",
    "\n",
    "Utilice Python para calcular la matriz de confusión y calcule de forma manual las métricas de precision, recall, accuracy y f1-score.  \n",
    "Luego utilice la función classification_report de SciKit-Learn para comparar los resultados.\n"
   ]
  }
 ],
 "metadata": {
  "language_info": {
   "name": "python"
  }
 },
 "nbformat": 4,
 "nbformat_minor": 5
}
