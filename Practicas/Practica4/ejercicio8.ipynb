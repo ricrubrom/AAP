{
 "cells": [
  {
   "cell_type": "markdown",
   "id": "bf12c28a",
   "metadata": {},
   "source": [
    "# Ejercicio 8\n",
    "\n",
    "Utilizando el archivo Iris.csv que contiene información referida a la longitud y al ancho de sépalos y pétalos de tres especies de flores: iris setosa, iris versicolor e iris virginica.\n"
   ]
  },
  {
   "cell_type": "code",
   "execution_count": 6,
   "id": "6fb7ab58",
   "metadata": {},
   "outputs": [],
   "source": [
    "import pandas as pd\n",
    "import numpy as np\n",
    "from sklearn.model_selection import train_test_split\n",
    "from sklearn import preprocessing\n",
    "\n",
    "DATA_PATH=\"./Data/\"\n",
    "\n",
    "data=pd.read_csv(DATA_PATH+'Iris.csv')\n",
    "\n",
    "X = data.drop('class', axis=1)\n",
    "T = data['class']\n",
    "\n",
    "binarizer = preprocessing.LabelBinarizer()\n",
    "T = binarizer.fit_transform(T)\n",
    "\n",
    "X=np.array(X)\n",
    "scaler = preprocessing.StandardScaler()\n",
    "X = scaler.fit_transform(X)\n",
    "\n",
    "X_train, X_test, T_train, T_test = train_test_split(X, T, test_size=0.2, random_state=42, stratify=T)\n"
   ]
  },
  {
   "cell_type": "code",
   "execution_count": 7,
   "id": "c827b637",
   "metadata": {},
   "outputs": [
    {
     "name": "stdout",
     "output_type": "stream",
     "text": [
      "TensorFlow está configurado para usar CUDA (GPU).\n"
     ]
    }
   ],
   "source": [
    "import tensorflow as tf\n",
    "\n",
    "# Verifica si hay GPUs disponibles y configura para usar CUDA si es posible\n",
    "gpus = tf.config.list_physical_devices('GPU')\n",
    "if gpus:\n",
    "  try:\n",
    "    # Configura TensorFlow para que use solo la memoria necesaria en la GPU\n",
    "    for gpu in gpus:\n",
    "      tf.config.experimental.set_memory_growth(gpu, True)\n",
    "    print(\"TensorFlow está configurado para usar CUDA (GPU).\")\n",
    "  except RuntimeError as e:\n",
    "    print(e)\n",
    "else:\n",
    "  print(\"No se detectaron GPUs. TensorFlow usará la CPU.\")"
   ]
  },
  {
   "cell_type": "markdown",
   "id": "46063200",
   "metadata": {},
   "source": [
    "# Inciso A\n",
    "\n",
    "Entrenar un multiperceptrón que aprenda a clasificar las 3 clases de flores.\n"
   ]
  },
  {
   "cell_type": "code",
   "execution_count": 8,
   "id": "d8840906",
   "metadata": {},
   "outputs": [],
   "source": [
    "from keras import Sequential\n",
    "from keras.layers import Input, Dense\n",
    "\n",
    "model=Sequential([\n",
    "  Input(shape=[4]),\n",
    "  Dense(8, activation='tanh'),\n",
    "  Dense(3, activation='softmax')\n",
    "])\n",
    "\n",
    "model.compile(optimizer='adam',loss='categorical_crossentropy',metrics=['accuracy'])\n",
    "\n",
    "# display(model.summary())"
   ]
  },
  {
   "cell_type": "code",
   "execution_count": 10,
   "id": "ebb64d83",
   "metadata": {},
   "outputs": [
    {
     "name": "stdout",
     "output_type": "stream",
     "text": [
      "Training accuracy (último epoch): 0.9583333134651184\n",
      "Validation accuracy (último epoch): 0.9666666388511658\n",
      "Test loss: 0.1985 - Test accuracy: 0.9667\n"
     ]
    },
    {
     "data": {
      "image/png": "[encoded data removed]",
      "text/plain": [
       "<Figure size 640x480 with 1 Axes>"
      ]
     },
     "metadata": {},
     "output_type": "display_data"
    }
   ],
   "source": [
    "# Entrena y guarda el history (añade validation para ver val_accuracy)\n",
    "history = model.fit(X_train, T_train, epochs=100, batch_size=32, validation_data=(X_test, T_test), verbose=0)\n",
    "\n",
    "# Accuracy del último epoch\n",
    "print(\"Training accuracy (último epoch):\", history.history['accuracy'][-1])\n",
    "if 'val_accuracy' in history.history:\n",
    "  print(\"Validation accuracy (último epoch):\", history.history['val_accuracy'][-1])\n",
    "\n",
    "# Evaluación final en el test set\n",
    "loss, acc = model.evaluate(X_test, T_test, verbose=0)\n",
    "print(f\"Test loss: {loss:.4f} - Test accuracy: {acc:.4f}\")\n",
    "\n",
    "# Graficar curva de accuracy\n",
    "import matplotlib.pyplot as plt\n",
    "plt.plot(history.history['accuracy'], label='train_acc')\n",
    "if 'val_accuracy' in history.history:\n",
    "  plt.plot(history.history['val_accuracy'], label='val_acc')\n",
    "plt.xlabel('Epoch')\n",
    "plt.ylabel('Accuracy')\n",
    "plt.legend()\n",
    "plt.grid(True)\n",
    "plt.show()"
   ]
  },
  {
   "cell_type": "markdown",
   "id": "5847737f",
   "metadata": {},
   "source": [
    "# Inciso B\n",
    "\n",
    "Utilice Python para calcular la matriz de confusión y calcule de forma manual las métricas de precision, recall, accuracy y f1-score.  \n",
    "Luego utilice la función classification_report de SciKit-Learn para comparar los resultados.\n"
   ]
  },
  {
   "cell_type": "code",
   "execution_count": 15,
   "id": "87b1ae7f",
   "metadata": {},
   "outputs": [
    {
     "name": "stdout",
     "output_type": "stream",
     "text": [
      "Matriz de confusión:\n",
      " [[10  0  0]\n",
      " [ 0  9  1]\n",
      " [ 0  0 10]]\n",
      "\n",
      "Métricas por clase (manual):\n",
      "Iris-setosa: precision=1.0000, recall=1.0000, accuracy=1.0000, f1=1.0000\n",
      "Iris-versicolor: precision=1.0000, recall=0.9000, accuracy=0.9667, f1=0.9474\n",
      "Iris-virginica: precision=0.9091, recall=1.0000, accuracy=0.9667, f1=0.9524\n",
      "\n",
      "Accuracy global (manual): 0.9667\n",
      "\n",
      "Classification report (sklearn):\n",
      "                 precision    recall  f1-score   support\n",
      "\n",
      "    Iris-setosa       1.00      1.00      1.00        10\n",
      "Iris-versicolor       1.00      0.90      0.95        10\n",
      " Iris-virginica       0.91      1.00      0.95        10\n",
      "\n",
      "       accuracy                           0.97        30\n",
      "      macro avg       0.97      0.97      0.97        30\n",
      "   weighted avg       0.97      0.97      0.97        30\n",
      "\n"
     ]
    }
   ],
   "source": [
    "from sklearn.metrics import confusion_matrix, classification_report\n",
    "\n",
    "# Predicciones (probabilidades -> etiquetas)\n",
    "y_true = np.argmax(T_test, axis=1)\n",
    "y_pred_probs = model.predict(X_test, verbose=0)\n",
    "y_pred = np.argmax(y_pred_probs, axis=1)\n",
    "\n",
    "# Matriz de confusión\n",
    "labels = list(range(len(binarizer.classes_)))\n",
    "cm = confusion_matrix(y_true, y_pred, labels=labels)\n",
    "print(\"Matriz de confusión:\\n\", cm)\n",
    "\n",
    "# Cálculo manual de métricas por clase\n",
    "total = cm.sum()\n",
    "print(\"\\nMétricas por clase (manual):\")\n",
    "for i, cls in enumerate(binarizer.classes_):\n",
    "  TP = cm[i, i]\n",
    "  FP = cm[:, i].sum() - TP\n",
    "  FN = cm[i, :].sum() - TP\n",
    "  TN = total - TP - FP - FN\n",
    "\n",
    "  precision = TP / (TP + FP) if (TP + FP) > 0 else 0.0\n",
    "  recall = TP / (TP + FN) if (TP + FN) > 0 else 0.0\n",
    "  accuracy = (TP + TN) / total\n",
    "  f1 = 2 * precision * recall / (precision + recall) if (precision + recall) > 0 else 0.0\n",
    "\n",
    "  print(f\"{cls}: precision={precision:.4f}, recall={recall:.4f}, accuracy={accuracy:.4f}, f1={f1:.4f}\")\n",
    "\n",
    "# Métricas globales a partir de la matriz\n",
    "overall_accuracy = np.trace(cm) / total\n",
    "print(f\"\\nAccuracy global (manual): {overall_accuracy:.4f}\")\n",
    "\n",
    "# Comparación con classification_report de scikit-learn\n",
    "print(\"\\nClassification report (sklearn):\")\n",
    "print(classification_report(y_true, y_pred, target_names=binarizer.classes_))"
   ]
  }
 ],
 "metadata": {
  "kernelspec": {
   "display_name": "AAP",
   "language": "python",
   "name": "python3"
  },
  "language_info": {
   "codemirror_mode": {
    "name": "ipython",
    "version": 3
   },
   "file_extension": ".py",
   "mimetype": "text/x-python",
   "name": "python",
   "nbconvert_exporter": "python",
   "pygments_lexer": "ipython3",
   "version": "3.13.7"
  }
 },
 "nbformat": 4,
 "nbformat_minor": 5
}
