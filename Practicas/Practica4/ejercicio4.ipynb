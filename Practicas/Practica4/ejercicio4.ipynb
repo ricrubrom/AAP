{
 "cells": [
  {
   "cell_type": "markdown",
   "id": "88cfda37",
   "metadata": {},
   "source": [
    "# Ejercicio 4\n",
    "\n",
    "El archivo Balance.csv tiene información sobre un experimento psicológico realizado para evaluar el aprendizaje en los niños. Cada fila de la tabla tiene las características de una balanza, referidas a la longitud de los brazos izquierdo y derecho de la balanza y al peso que hay en cada brazo, y un atributo que indica si la balanza se inclina al lado izquierdo (L), derecho (R), o está balanceada (B).  \n",
    "\n",
    "Utilice una parte de los ejemplos para entrenar un multiperceptrón que sea capaz de predecir si la balanza está inclinada a derecha, a izquierda o si está balanceada. Analice la precisión de la red sobre los ejemplos de entrenamiento y sobre los de testeo.  \n",
    "\n",
    "Fuente: Balance Scale Data Set - https://archive.ics.uci.edu/ml/datasets/Balance+Scale\n"
   ]
  }
 ],
 "metadata": {
  "language_info": {
   "name": "python"
  }
 },
 "nbformat": 4,
 "nbformat_minor": 5
}
