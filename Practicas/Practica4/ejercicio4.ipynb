{
 "cells": [
  {
   "cell_type": "markdown",
   "id": "88cfda37",
   "metadata": {},
   "source": [
    "# Ejercicio 4\n",
    "\n",
    "El archivo Balance.csv tiene información sobre un experimento psicológico realizado para evaluar el aprendizaje en los niños. Cada fila de la tabla tiene las características de una balanza, referidas a la longitud de los brazos izquierdo y derecho de la balanza y al peso que hay en cada brazo, y un atributo que indica si la balanza se inclina al lado izquierdo (L), derecho (R), o está balanceada (B).\n",
    "\n",
    "Utilice una parte de los ejemplos para entrenar un multiperceptrón que sea capaz que predecir si la balanza está inclinada a derecha, a izquierda o si está balanceada. Analice la precisión de la red sobre los ejemplos de entrenamiento y sobre los de testeo.\n",
    "\n",
    "Fuente: Balance Scale Data Set - https://archive.ics.uci.edu/ml/datasets/Balance+Scale\n"
   ]
  },
  {
   "cell_type": "code",
   "execution_count": 12,
   "id": "5fd5f76c",
   "metadata": {},
   "outputs": [],
   "source": [
    "import pandas as pd\n",
    "import numpy as np\n",
    "from sklearn.model_selection import train_test_split\n",
    "from sklearn import preprocessing\n",
    "\n",
    "DATA_PATH=\"./Data/\"\n",
    "\n",
    "data=pd.read_csv(DATA_PATH+'Balance.csv')\n",
    "\n",
    "X = data.drop('Balance', axis=1)\n",
    "T = data['Balance']\n",
    "\n",
    "binarizer = preprocessing.LabelBinarizer()\n",
    "T = binarizer.fit_transform(T)\n",
    "\n",
    "X=np.array(X)\n",
    "scaler = preprocessing.StandardScaler()\n",
    "X = scaler.fit_transform(X)\n",
    "\n",
    "X_train, X_test, T_train, T_test = train_test_split(X, T, test_size=0.2, random_state=42, stratify=T)\n"
   ]
  },
  {
   "cell_type": "code",
   "execution_count": 16,
   "id": "e0760a21",
   "metadata": {},
   "outputs": [
    {
     "name": "stdout",
     "output_type": "stream",
     "text": [
      "Efectividad:  89.40%\n",
      "      Score:   0.87\n"
     ]
    }
   ],
   "source": [
    "from sklearn.neural_network import MLPClassifier\n",
    "from sklearn.metrics import accuracy_score\n",
    "from sklearn.preprocessing import StandardScaler\n",
    "\n",
    "clf=MLPClassifier(solver='adam', learning_rate_init=0.05,hidden_layer_sizes=(8,), random_state=1, max_iter=2500,batch_size=200,tol=1.0e-05,n_iter_no_change=30,early_stopping=True,validation_fraction=0.2,activation='tanh')\n",
    "\n",
    "clf.fit(X_train, T_train)\n",
    "y_pred=clf.predict(X_train)\n",
    "\n",
    "# Predicción sobre entrenamiento\n",
    "Y_pred = clf.predict(X_train)\n",
    "score = clf.score(X_train, T_train)\n",
    "Y_it = binarizer.inverse_transform(T_train)\n",
    "Y_pred_it = binarizer.inverse_transform(Y_pred)\n",
    "print('Efectividad: %6.2f%%' % (100*(Y_pred_it == Y_it).sum()/len(Y_it)) )\n",
    "print('      Score: %6.2f' % (score) )"
   ]
  },
  {
   "cell_type": "code",
   "execution_count": 17,
   "id": "b710bb22",
   "metadata": {},
   "outputs": [
    {
     "name": "stdout",
     "output_type": "stream",
     "text": [
      "Efectividad:  86.40%\n",
      "      Score:   0.82\n"
     ]
    }
   ],
   "source": [
    "Y_pred = clf.predict(X_test)\n",
    "score = clf.score(X_test, T_test)\n",
    "Y_it = binarizer.inverse_transform(T_test)\n",
    "Y_pred_it = binarizer.inverse_transform(Y_pred)\n",
    "print('Efectividad: %6.2f%%' % (100*(Y_pred_it == Y_it).sum()/len(Y_it)) )\n",
    "print('      Score: %6.2f' % (score) )"
   ]
  }
 ],
 "metadata": {
  "kernelspec": {
   "display_name": "AAP",
   "language": "python",
   "name": "python3"
  },
  "language_info": {
   "codemirror_mode": {
    "name": "ipython",
    "version": 3
   },
   "file_extension": ".py",
   "mimetype": "text/x-python",
   "name": "python",
   "nbconvert_exporter": "python",
   "pygments_lexer": "ipython3",
   "version": "3.13.7"
  }
 },
 "nbformat": 4,
 "nbformat_minor": 5
}
