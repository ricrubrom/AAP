{
 "cells": [
  {
   "cell_type": "markdown",
   "id": "aaecea70",
   "metadata": {},
   "source": [
    "# Ejercicio 7\n",
    "\n",
    "Re-implemente el modelo del ejercicio 4 (Balance.csv) utilizando un Multiperceptrón con Tensorflow/Keras.\n"
   ]
  }
 ],
 "metadata": {
  "language_info": {
   "name": "python"
  }
 },
 "nbformat": 4,
 "nbformat_minor": 5
}
