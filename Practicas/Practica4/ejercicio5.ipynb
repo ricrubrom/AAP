{
 "cells": [
  {
   "cell_type": "markdown",
   "id": "6ce3438b",
   "metadata": {},
   "source": [
    "# Ejercicio 5\n",
    "\n",
    "El archivo ZOO.csv contiene información de 101 animales caracterizados por los siguientes atributos:\n",
    "| 1. Nombre del animal   | 7. Acuático        | 13. Aletas        |\n",
    "|------------------------|--------------------|-------------------|\n",
    "| 2. Tiene Pelo          | 8. Depredador      | 14. Patas         |\n",
    "| 3. Plumas              | 9. Dentado         | 15. Cola          |\n",
    "| 4. Huevos              | 10. Vertebrado     | 16. Doméstico     |\n",
    "| 5. Leche               | 11. Branquias      | 17. Tamaño gato   |\n",
    "| 6. Vuela               | 12. Venenoso       | 18. Clase         |\n",
    "\n",
    "Salvo los atributos 1 y 18 que contienen texto y el 14 que contiene el número de patas del animal, el resto toma el valor 1 si el animal posee la característica y 0 si no.  \n",
    "Hay 7 valores de clase posible (atributo 18): mamífero, ave, pez, invertebrado, insecto, reptil y anfibio.  \n",
    "\n",
    "Entrene un multiperceptrón que sea capaz de clasificar un animal en una de las 7 clases.  \n",
    "Utilice el 70% de los ejemplos para entrenar y el 30% para realizar el testeo.  \n",
    "Realice al menos 10 ejecuciones independientes de la configuración seleccionada para respaldar sus afirmaciones referidas a la performance del modelo.  \n",
    "\n",
    "Fuente: https://archive.ics.uci.edu/ml/datasets/zoo\n"
   ]
  },
  {
   "cell_type": "code",
   "execution_count": null,
   "id": "fb0b944c",
   "metadata": {},
   "outputs": [],
   "source": [
    "import pandas as pd\n",
    "import numpy as np\n",
    "from sklearn.model_selection import train_test_split\n",
    "from sklearn import preprocessing\n",
    "\n",
    "DATA_PATH=\"./Data/\"\n",
    "\n",
    "data = pd.read_csv(DATA_PATH + 'zoo.csv', encoding='latin1')\n",
    "\n",
    "X = data.drop('Clase', axis=1)\n",
    "X=X.drop('animal',axis=1)\n",
    "T = data['Clase']\n",
    "\n",
    "binarizer = preprocessing.LabelBinarizer()\n",
    "T = binarizer.fit_transform(T)\n",
    "\n",
    "X=np.array(X)\n",
    "scaler = preprocessing.StandardScaler()\n",
    "X = scaler.fit_transform(X)\n",
    "\n",
    "X_train, X_test, T_train, T_test = train_test_split(X, T, test_size=0.3, random_state=42, stratify=T)\n"
   ]
  },
  {
   "cell_type": "code",
   "execution_count": 12,
   "id": "5b108725",
   "metadata": {},
   "outputs": [
    {
     "name": "stdout",
     "output_type": "stream",
     "text": [
      "Entrenamiento:\n",
      "Efectividad media:  95.50% ±   4.08%\n",
      "Score medio:   0.94 ±   0.05\n",
      "\n",
      "Test:\n",
      "Efectividad media:  89.52% ±   4.67%\n",
      "Score medio:   0.86 ±   0.07\n"
     ]
    },
    {
     "name": "stderr",
     "output_type": "stream",
     "text": [
      "/home/mateo/Desktop/Facultad/AAP/AAP/lib/python3.13/site-packages/sklearn/neural_network/_multilayer_perceptron.py:691: UserWarning: Got `batch_size` less than 1 or larger than sample size. It is going to be clipped\n",
      "  warnings.warn(\n",
      "/home/mateo/Desktop/Facultad/AAP/AAP/lib/python3.13/site-packages/sklearn/neural_network/_multilayer_perceptron.py:691: UserWarning: Got `batch_size` less than 1 or larger than sample size. It is going to be clipped\n",
      "  warnings.warn(\n",
      "/home/mateo/Desktop/Facultad/AAP/AAP/lib/python3.13/site-packages/sklearn/neural_network/_multilayer_perceptron.py:691: UserWarning: Got `batch_size` less than 1 or larger than sample size. It is going to be clipped\n",
      "  warnings.warn(\n",
      "/home/mateo/Desktop/Facultad/AAP/AAP/lib/python3.13/site-packages/sklearn/neural_network/_multilayer_perceptron.py:691: UserWarning: Got `batch_size` less than 1 or larger than sample size. It is going to be clipped\n",
      "  warnings.warn(\n",
      "/home/mateo/Desktop/Facultad/AAP/AAP/lib/python3.13/site-packages/sklearn/neural_network/_multilayer_perceptron.py:691: UserWarning: Got `batch_size` less than 1 or larger than sample size. It is going to be clipped\n",
      "  warnings.warn(\n",
      "/home/mateo/Desktop/Facultad/AAP/AAP/lib/python3.13/site-packages/sklearn/neural_network/_multilayer_perceptron.py:691: UserWarning: Got `batch_size` less than 1 or larger than sample size. It is going to be clipped\n",
      "  warnings.warn(\n",
      "/home/mateo/Desktop/Facultad/AAP/AAP/lib/python3.13/site-packages/sklearn/neural_network/_multilayer_perceptron.py:691: UserWarning: Got `batch_size` less than 1 or larger than sample size. It is going to be clipped\n",
      "  warnings.warn(\n",
      "/home/mateo/Desktop/Facultad/AAP/AAP/lib/python3.13/site-packages/sklearn/neural_network/_multilayer_perceptron.py:691: UserWarning: Got `batch_size` less than 1 or larger than sample size. It is going to be clipped\n",
      "  warnings.warn(\n",
      "/home/mateo/Desktop/Facultad/AAP/AAP/lib/python3.13/site-packages/sklearn/neural_network/_multilayer_perceptron.py:691: UserWarning: Got `batch_size` less than 1 or larger than sample size. It is going to be clipped\n",
      "  warnings.warn(\n",
      "/home/mateo/Desktop/Facultad/AAP/AAP/lib/python3.13/site-packages/sklearn/neural_network/_multilayer_perceptron.py:691: UserWarning: Got `batch_size` less than 1 or larger than sample size. It is going to be clipped\n",
      "  warnings.warn(\n"
     ]
    }
   ],
   "source": [
    "from sklearn.neural_network import MLPClassifier\n",
    "from sklearn.metrics import accuracy_score\n",
    "from sklearn.preprocessing import StandardScaler\n",
    "\n",
    "train_scores = []\n",
    "test_scores = []\n",
    "train_effectiveness = []\n",
    "test_effectiveness = []\n",
    "\n",
    "for i in range(10):\n",
    "  clf = MLPClassifier(\n",
    "    solver='adam',\n",
    "    learning_rate_init=0.05,\n",
    "    hidden_layer_sizes=(20,20),\n",
    "    random_state=i,\n",
    "    max_iter=2500,\n",
    "    batch_size=200,\n",
    "    tol=1.0e-05,\n",
    "    n_iter_no_change=30,\n",
    "    early_stopping=True,\n",
    "    validation_fraction=0.2,\n",
    "    activation='tanh'\n",
    "  )\n",
    "  clf.fit(X_train, T_train)\n",
    "\n",
    "  # Entrenamiento\n",
    "  Y_pred_train = clf.predict(X_train)\n",
    "  score_train = clf.score(X_train, T_train)\n",
    "  Y_it_train = binarizer.inverse_transform(T_train)\n",
    "  Y_pred_it_train = binarizer.inverse_transform(Y_pred_train)\n",
    "  efectividad_train = 100 * (Y_pred_it_train == Y_it_train).sum() / len(Y_it_train)\n",
    "  train_scores.append(score_train)\n",
    "  train_effectiveness.append(efectividad_train)\n",
    "\n",
    "  # Test\n",
    "  Y_pred_test = clf.predict(X_test)\n",
    "  score_test = clf.score(X_test, T_test)\n",
    "  Y_it_test = binarizer.inverse_transform(T_test)\n",
    "  Y_pred_it_test = binarizer.inverse_transform(Y_pred_test)\n",
    "  efectividad_test = 100 * (Y_pred_it_test == Y_it_test).sum() / len(Y_it_test)\n",
    "  test_scores.append(score_test)\n",
    "  test_effectiveness.append(efectividad_test)\n",
    "\n",
    "print(\"Entrenamiento:\")\n",
    "print(\"Efectividad media: %6.2f%% ± %6.2f%%\" % (np.mean(train_effectiveness), np.std(train_effectiveness)))\n",
    "print(\"Score medio: %6.2f ± %6.2f\" % (np.mean(train_scores), np.std(train_scores)))\n",
    "print(\"\\nTest:\")\n",
    "print(\"Efectividad media: %6.2f%% ± %6.2f%%\" % (np.mean(test_effectiveness), np.std(test_effectiveness)))\n",
    "print(\"Score medio: %6.2f ± %6.2f\" % (np.mean(test_scores), np.std(test_scores)))"
   ]
  }
 ],
 "metadata": {
  "kernelspec": {
   "display_name": "AAP",
   "language": "python",
   "name": "python3"
  },
  "language_info": {
   "codemirror_mode": {
    "name": "ipython",
    "version": 3
   },
   "file_extension": ".py",
   "mimetype": "text/x-python",
   "name": "python",
   "nbconvert_exporter": "python",
   "pygments_lexer": "ipython3",
   "version": "3.13.7"
  }
 },
 "nbformat": 4,
 "nbformat_minor": 5
}
