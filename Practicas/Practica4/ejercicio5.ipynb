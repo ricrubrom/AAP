{
 "cells": [
  {
   "cell_type": "markdown",
   "id": "6ce3438b",
   "metadata": {},
   "source": [
    "# Ejercicio 5\n",
    "\n",
    "El archivo ZOO.csv contiene información de 101 animales caracterizados por los siguientes atributos:\n",
    "| 1. Nombre del animal   | 7. Acuático        | 13. Aletas        |\n",
    "|------------------------|--------------------|-------------------|\n",
    "| 2. Tiene Pelo          | 8. Depredador      | 14. Patas         |\n",
    "| 3. Plumas              | 9. Dentado         | 15. Cola          |\n",
    "| 4. Huevos              | 10. Vertebrado     | 16. Doméstico     |\n",
    "| 5. Leche               | 11. Branquias      | 17. Tamaño gato   |\n",
    "| 6. Vuela               | 12. Venenoso       | 18. Clase         |\n",
    "\n",
    "Salvo los atributos 1 y 18 que contienen texto y el 14 que contiene el número de patas del animal, el resto toma el valor 1 si el animal posee la característica y 0 si no.  \n",
    "Hay 7 valores de clase posible (atributo 18): mamífero, ave, pez, invertebrado, insecto, reptil y anfibio.  \n",
    "\n",
    "Entrene un multiperceptrón que sea capaz de clasificar un animal en una de las 7 clases.  \n",
    "Utilice el 70% de los ejemplos para entrenar y el 30% para realizar el testeo.  \n",
    "Realice al menos 10 ejecuciones independientes de la configuración seleccionada para respaldar sus afirmaciones referidas a la performance del modelo.  \n",
    "\n",
    "Fuente: https://archive.ics.uci.edu/ml/datasets/zoo\n"
   ]
  }
 ],
 "metadata": {
  "language_info": {
   "name": "python"
  }
 },
 "nbformat": 4,
 "nbformat_minor": 5
}
