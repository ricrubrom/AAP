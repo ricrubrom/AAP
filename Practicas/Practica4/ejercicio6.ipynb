{
 "cells": [
  {
   "cell_type": "markdown",
   "id": "ea37075b",
   "metadata": {},
   "source": [
    "# Ejercicio 6\n",
    "\n",
    "Los archivos Segment_Train.csv y Segment_Test.csv contienen información referida a regiones de 3x3 píxeles pertenecientes a 7 imágenes distintas. Cada una corresponde a uno de los siguientes tipos de superficie: ladrillo, cielo, follaje, cemento, ventana, camino y pasto.  \n",
    "\n",
    "Cada región de 3x3 ha sido caracterizada por 19 atributos numéricos: centroides, densidades, intensidades, colores, etc.  \n",
    "\n",
    "El atributo 20 corresponde al número de imagen de la cual fue extraída la región (1: ladrillo, 2: cemento, 3: follaje, 4: pasto, 5: camino, 6: cielo, 7: ventana).  \n",
    "\n",
    "Entrene una red neuronal multiperceptrón para que dada una región de 3x3, representada a través de los 19 atributos indicados, sea capaz de identificar a cuál de las 7 imágenes corresponde.  \n",
    "\n",
    "Utilice los ejemplos del archivo Segment_Train.csv para entrenar y los del archivo Segment_Test.csv para testear.  \n",
    "Realice al menos 10 ejecuciones independientes de la configuración seleccionada para respaldar sus afirmaciones referidas a la performance del modelo.  \n",
    "\n",
    "Fuente: https://archive.ics.uci.edu/ml/datasets/Image+Segmentation\n"
   ]
  }
 ],
 "metadata": {
  "language_info": {
   "name": "python"
  }
 },
 "nbformat": 4,
 "nbformat_minor": 5
}
