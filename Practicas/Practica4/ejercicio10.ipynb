{
 "cells": [
  {
   "cell_type": "markdown",
   "id": "2ef7f117",
   "metadata": {},
   "source": [
    "# Ejercicio 10\n",
    "\n",
    "El conjunto de datos “Fingers” consiste en una serie de imágenes de 64x64 píxeles con fondo negro donde en su centro se encuentra una mano que muestra una cantidad de dedos que va desde 0 a 5.  \n",
    "\n",
    "Dataset: https://www.kaggle.com/koryakinp/fingers\n"
   ]
  },
  {
   "cell_type": "markdown",
   "id": "c722fda3",
   "metadata": {},
   "source": [
    "# Inciso A\n",
    "\n",
    "Utilice la función regionprops de SciKitLearn con algunas imágenes de ejemplo del dataset para experimentar con las distintas características que extrae de la imagen de la mano.\n"
   ]
  },
  {
   "cell_type": "markdown",
   "id": "a93ed034",
   "metadata": {},
   "source": [
    "# Inciso B\n",
    "\n",
    "Implemente un script que convierta las imágenes en las carpetas “test” y “train” del dataset “Fingers” en dos archivos (uno por carpeta) separados por comas (CSV).  \n",
    "\n",
    "De todas las características que provee regionprops, tienen potencial aquellas que son independientes o se pueden independizar de las unidades (píxeles).  \n",
    "Algunas de estas características pueden ser:  \n",
    "\n",
    "- filled_area  \n",
    "- major_axis_length  \n",
    "- minor_axis_length  \n",
    "- perimeter  \n",
    "- eccentricity  \n",
    "- solidity  \n",
    "- extent\n"
   ]
  },
  {
   "cell_type": "markdown",
   "id": "0ea590d8",
   "metadata": {},
   "source": [
    "# Inciso C\n",
    "\n",
    "Entrene un modelo de multiperceptrón a partir del archivo de entrenamiento generado en el punto anterior.\n"
   ]
  },
  {
   "cell_type": "markdown",
   "id": "81a086c2",
   "metadata": {},
   "source": [
    "# Inciso D\n",
    "\n",
    "Reflexione acerca de las propiedades geométricas generadas a partir de un objeto/región de una imagen.  \n",
    "¿Cómo cree que afectaría la rotación, translación y escalado de un objeto/región dentro de la imagen?\n"
   ]
  }
 ],
 "metadata": {
  "language_info": {
   "name": "python"
  }
 },
 "nbformat": 4,
 "nbformat_minor": 5
}
