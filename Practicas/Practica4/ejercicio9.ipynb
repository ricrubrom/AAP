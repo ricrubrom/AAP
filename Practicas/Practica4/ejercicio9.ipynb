{
 "cells": [
  {
   "cell_type": "markdown",
   "id": "b1068190",
   "metadata": {},
   "source": [
    "# Ejercicio 9\n",
    "\n",
    "Utilizando los ejemplos del archivo AUTOS.csv genere un modelo utilizando un multiperceptrón para predecir el precio del auto (atributo price) y la cantidad de millas por galón en ruta (MPG-highway) en función del resto de los atributos.  \n",
    "\n",
    "Recuerde completar los valores faltantes, utilizar normalización y dividir el dataset en entrenamiento y validación (80/20).  \n",
    "\n",
    "Realice 20 ejecuciones independientes de cada configuración seleccionada calculando las épocas promedio y el error cuadrático medio (ECM).  \n",
    "\n",
    "Analice los resultados y respalde las afirmaciones referidas a los resultados obtenidos.  \n",
    "Utilice un máximo de 1000 épocas con lotes de 50 e implemente una parada temprana con paciencia de 15.\n"
   ]
  },
  {
   "cell_type": "markdown",
   "id": "d0fd6ea1",
   "metadata": {},
   "source": [
    "# Inciso A\n",
    "\n",
    "Complete la siguiente tabla y realice un análisis de los valores obtenidos:\n",
    "\n",
    "**Tabla 1 — Épocas promedio**\n",
    "\n",
    "| Optimizador | tanh | sigmoid | ReLU | LeakyReLU |\n",
    "| ----------- | ---- | ------- | ---- | --------- |\n",
    "| SGD         |      |         |      |           |\n",
    "| RMSProp     |      |         |      |           |\n",
    "| Adam        |      |         |      |           |\n",
    "\n",
    "**Tabla 2 — ECM promedio**\n",
    "\n",
    "| Optimizador | tanh | sigmoid | ReLU | LeakyReLU |\n",
    "| ----------- | ---- | ------- | ---- | --------- |\n",
    "| SGD         |      |         |      |           |\n",
    "| RMSProp     |      |         |      |           |\n",
    "| Adam        |      |         |      |           |\n",
    "\n"
   ]
  }
 ],
 "metadata": {
  "language_info": {
   "name": "python"
  }
 },
 "nbformat": 4,
 "nbformat_minor": 5
}
